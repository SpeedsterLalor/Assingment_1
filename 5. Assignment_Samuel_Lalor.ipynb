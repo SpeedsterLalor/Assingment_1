{
 "cells": [
  {
   "cell_type": "markdown",
   "id": "ebf46bad-18bf-4dc2-8984-e4f6ce738bc9",
   "metadata": {},
   "source": [
    "1. Write a program that asks users to enter their name.<br>\n",
    "Then, print the initial.<br>\n",
    "\n",
    "    Note: Unlike the initial question in Assignment #4, you don't know in advance how many middle names users will enter.<br>\n",
    "    Regardless of how many middle names users have entered, your program should return the initial of the whole name.<br>\n",
    "\n",
    "    For example, if John Smith is entered, JS should be printed.<br>\n",
    "    If John Michael Smith is entered, JMS should be printed.<br>\n",
    "    If John Michael Jake Smith is entered, JMJS should be printed.<br>\n",
    "    ...<br>\n",
    "\n",
    "    Hint 1: Use split() and iterate over the result of split(), which is list datatype. Retrieve the first letter of each element in the list to print initials.<br>\n",
    "    Hint 2: Use upper() method to make initials uppercase."
   ]
  },
  {
   "cell_type": "code",
   "execution_count": 50,
   "id": "1e2290cd-4caa-4158-b35e-a79cbac1cfce",
   "metadata": {},
   "outputs": [
    {
     "name": "stdout",
     "output_type": "stream",
     "text": [
      "Enter your nameSamuel Timothy Lalor\n",
      "STL\n"
     ]
    }
   ],
   "source": [
    "name = input('Enter your name')\n",
    "\n",
    "name = name.split(' ')\n",
    "\n",
    "initial = ''\n",
    "\n",
    "for i in name:\n",
    "    initial += i[0]\n",
    "    \n",
    "print(initial.upper())\n",
    "    "
   ]
  },
  {
   "cell_type": "code",
   "execution_count": 12,
   "id": "e660b855-3f01-4047-a5ce-2e7996685fc0",
   "metadata": {},
   "outputs": [],
   "source": [
    "# Update this variable in a loop and print this at the end\n",
    "# initial = initial + ...\n",
    "initial = ''"
   ]
  },
  {
   "cell_type": "code",
   "execution_count": 15,
   "id": "dbefc05d-5264-491b-992a-6611e955d330",
   "metadata": {},
   "outputs": [
    {
     "name": "stdout",
     "output_type": "stream",
     "text": [
      "Enter your name: Samuel Timothy Lalor\n",
      "STL\n"
     ]
    }
   ],
   "source": [
    "# Answer\n",
    "name = input(\"Enter your name: \")\n",
    "name = name.upper()\n",
    "initials = name.split()\n",
    "result = ''\n",
    "\n",
    "i = 0\n",
    "\n",
    "while i < len(initials):\n",
    "    result += initials[i][0]\n",
    "    i += 1\n",
    "\n",
    "print(result)\n",
    "    \n",
    "\n"
   ]
  },
  {
   "cell_type": "markdown",
   "id": "22942ff5",
   "metadata": {},
   "source": [
    "2. Organizations use telephone numbers like 509-PUL-LMAN, which is easier for their customers to remember.<br>\n",
    "    Write a program that asks users to enter telephone number with any alphabets and translate to their number equivalent.<br>\n",
    "\n",
    "    Hint 1: Iterating string in for-loop will allow you to access to each letter in the string.<br>\n",
    "    Hint 2: Retrieve a number equivalent using key-indexing (dictionary[key] will give you its value).<br>\n",
    "   Hint 3: You need a conditional statement under loop. It should evaluate whether a given character/letter/number is one of the keys in the dictionary, converter. For example, 5 is not the one of the keys in converter. Then, just print it. If it is, print its value in converter.<br>"
   ]
  },
  {
   "cell_type": "code",
   "execution_count": 20,
   "id": "fa0145b6-b9f7-45db-a2b2-4373e3638cd9",
   "metadata": {},
   "outputs": [
    {
     "name": "stdout",
     "output_type": "stream",
     "text": [
      "Enter a phone number (e.g., in the form 509-PUL-MANN)509-PUL-LMAN\n"
     ]
    }
   ],
   "source": [
    "# Use the following dictionary to answer the question. \n",
    "# It contains alphabet-number equivalence\n",
    "converter = {'A':'2', 'B':'2', 'C':'2', 'D':'3', 'E':'3', 'F':'3',\n",
    "            'G':'4', 'H':'4', 'I':'4', 'J':'5', 'K':'5', 'L':'5',\n",
    "            'M': '6', 'N': '6', 'O': '6', 'P': '7', 'Q': '7', 'R': '7', 'S': '7', \n",
    "            'T': '8', 'U': '8', 'V': '8', 'W': '9', 'X': '9', 'Y': '9', 'Z': '9'}\n",
    "\n",
    "phone_alpha = input('Enter a phone number (e.g., in the form 509-PUL-MANN)')"
   ]
  },
  {
   "cell_type": "code",
   "execution_count": 21,
   "id": "dfdc16bc-fb11-49f3-920c-6966e738cebc",
   "metadata": {},
   "outputs": [],
   "source": [
    "# Update this variable in a loop and print this at the end\n",
    "# phone_num = phone_num + ...\n",
    "phone_num = ''"
   ]
  },
  {
   "cell_type": "code",
   "execution_count": 22,
   "id": "f65cbf9e-8619-4681-a6f5-a67c62afe2a6",
   "metadata": {},
   "outputs": [
    {
     "name": "stdout",
     "output_type": "stream",
     "text": [
      "509-785-5626\n"
     ]
    }
   ],
   "source": [
    "# Answer\n",
    "\n",
    "for char in phone_alpha:\n",
    "    if char.isalpha():\n",
    "        phone_num += converter[char.upper()]\n",
    "    else:\n",
    "        phone_num += char\n",
    "\n",
    "print(phone_num)\n"
   ]
  },
  {
   "cell_type": "markdown",
   "id": "c185c919-5975-472a-bb0c-a1187dc0cdd0",
   "metadata": {},
   "source": [
    "3. Design a program that generates a five-digit lottery number.<br>\n",
    "    The program should generate five random numbers, each in the range of 0 through 9, and assign each number to a list element.<br>\n",
    "    Lastly, print it in the form of a whole number.<br>\n",
    "    \n",
    "    Hint : random.randint(0,9) will return 'integer' datatype. To update the variable, lottery, which is string, you need to convert the result of random.randint(0,9) to string using str() function"
   ]
  },
  {
   "cell_type": "code",
   "execution_count": 29,
   "id": "e542d6bd-6489-482f-9087-a8a4ae8f4609",
   "metadata": {},
   "outputs": [],
   "source": [
    "# Run this cell first before you answer this question.\n",
    "import random"
   ]
  },
  {
   "cell_type": "code",
   "execution_count": 30,
   "id": "b1c711bd-c2cb-4e39-93dc-b24f497a3c60",
   "metadata": {},
   "outputs": [
    {
     "data": {
      "text/plain": [
       "0"
      ]
     },
     "execution_count": 30,
     "metadata": {},
     "output_type": "execute_result"
    }
   ],
   "source": [
    "# If you do not run the cell above, this cell will spit out an error.\n",
    "# This code gives you a random number between 0-9. \n",
    "# Use this code to generate random numbers between 0 and 9. (Store it to a variable!)\n",
    "random.randint(0,9)"
   ]
  },
  {
   "cell_type": "code",
   "execution_count": 31,
   "id": "70a35402-8395-458e-96e4-6db81d580140",
   "metadata": {},
   "outputs": [
    {
     "data": {
      "text/plain": [
       "'9'"
      ]
     },
     "execution_count": 31,
     "metadata": {},
     "output_type": "execute_result"
    }
   ],
   "source": [
    "# convert randint to string\n",
    "str(random.randint(0,9))"
   ]
  },
  {
   "cell_type": "code",
   "execution_count": 32,
   "id": "4e79c41a-cdb6-4e2b-aafc-3df1360a948f",
   "metadata": {},
   "outputs": [],
   "source": [
    "# Update this variable in a loop and print this at the end\n",
    "# lottery = lottery + ...\n",
    "lottery = ''"
   ]
  },
  {
   "cell_type": "code",
   "execution_count": 33,
   "id": "c440d506-238b-43ed-a83b-a87e6abda908",
   "metadata": {},
   "outputs": [
    {
     "name": "stdout",
     "output_type": "stream",
     "text": [
      "33200\n"
     ]
    }
   ],
   "source": [
    "# Answer\n",
    "for i in range(5):\n",
    "    lottery += str(random.randint(0, 9))\n",
    "\n",
    "print(int(lottery))\n",
    "\n",
    "\n"
   ]
  },
  {
   "cell_type": "markdown",
   "id": "6123536d-7fe2-4a50-af9e-3601f2b2d4ab",
   "metadata": {},
   "source": [
    "4. Using no_rannum (see below), create a list, li_random, that contains (no_rannum) random numbers between 0 and 99.<br>\n",
    "    For example, if 5 was input, li_random should contain 5 random numbers.<br>\n",
    "    Use <u>list comprehension</u> to answer this question.<br>\n",
    "\n",
    "   Hint: Pass no_rannum to range() function"
   ]
  },
  {
   "cell_type": "code",
   "execution_count": 34,
   "id": "8977cdb8-91e8-463c-aa43-c05c746427a1",
   "metadata": {},
   "outputs": [
    {
     "data": {
      "text/plain": [
       "0"
      ]
     },
     "execution_count": 34,
     "metadata": {},
     "output_type": "execute_result"
    }
   ],
   "source": [
    "# run this block first before you answer this question.\n",
    "import random\n",
    "# if you do not run the code above, this code will spit out an error.\n",
    "# this code gives you a random number between 0-99. \n",
    "# Use this code to generate random numbers between 0 and 99. (Store it to a variable!)\n",
    "random.randint(0,99)"
   ]
  },
  {
   "cell_type": "code",
   "execution_count": 35,
   "id": "b4eb4f0e-84f8-42c8-a20d-9da5a8f2707e",
   "metadata": {},
   "outputs": [
    {
     "name": "stdout",
     "output_type": "stream",
     "text": [
      "Enter no_rannum44\n"
     ]
    }
   ],
   "source": [
    "no_rannum = int(input('Enter no_rannum'))"
   ]
  },
  {
   "cell_type": "code",
   "execution_count": 36,
   "id": "c37df631-ae77-4950-a853-678bca91a2ea",
   "metadata": {},
   "outputs": [
    {
     "name": "stdout",
     "output_type": "stream",
     "text": [
      "[86, 11, 73, 10, 66, 32, 12, 98, 18, 3, 0, 90, 73, 66, 86, 63, 20, 79, 29, 86, 38, 47, 88, 55, 42, 36, 88, 45, 39, 62, 35, 56, 60, 4, 99, 69, 79, 3, 70, 31, 4, 75, 16, 15]\n"
     ]
    }
   ],
   "source": [
    "# Answer\n",
    "\n",
    "li_random = [random.randint(0, 99) for _ in range(no_rannum)]\n",
    "\n",
    "print(li_random)\n"
   ]
  },
  {
   "cell_type": "markdown",
   "id": "c56e7a9f-f4ac-42fa-abe0-e3e828fe7cfe",
   "metadata": {},
   "source": [
    "5. For this question, use threshold (see below) and the list (li_random) you created in Q4.<br>\n",
    "    Create a new list (li_over) that contains numbers in the list, li_random, which are larger than threshold.<br>\n",
    "\n",
    "    If li_random you created is [2,4,70,20,3] and threshold is 4, the result should be [70,20].<br>\n",
    "    You don't have to use list comprehension.<br>\n",
    "\n",
    "    Hint 1: You need if statement in loop to evaluate whether a number in li_random is greater than threshold<br>\n",
    "    Hint 2: If that is the case, use .append() method to append it to a list, li_over."
   ]
  },
  {
   "cell_type": "code",
   "execution_count": 38,
   "id": "e4b328d4-8fb3-40b8-aec2-bb5e5872820e",
   "metadata": {},
   "outputs": [
    {
     "name": "stdout",
     "output_type": "stream",
     "text": [
      "Enter num2 between 0 and 10045\n"
     ]
    }
   ],
   "source": [
    "threshold = int(input('Enter num2 between 0 and 100'))"
   ]
  },
  {
   "cell_type": "code",
   "execution_count": 39,
   "id": "df29fbf3-41a4-43fa-9da3-2a52de8e3b65",
   "metadata": {},
   "outputs": [
    {
     "name": "stdout",
     "output_type": "stream",
     "text": [
      "[86, 73, 66, 98, 90, 73, 66, 86, 63, 79, 86, 47, 88, 55, 88, 62, 56, 60, 99, 69, 79, 70, 75]\n"
     ]
    }
   ],
   "source": [
    "# Answer\n",
    "\n",
    "li_over = []\n",
    "\n",
    "for num in li_random:\n",
    "    if num > threshold:\n",
    "        li_over.append(num)\n",
    "\n",
    "print(li_over)\n"
   ]
  },
  {
   "cell_type": "markdown",
   "id": "c2bf118e-8d5f-4f21-a0e1-b65a4b3ce81e",
   "metadata": {},
   "source": [
    "6. (1) Use for-loop, write a program that prints Celsius temperatures 0 through 20 and their Fahrenheit equivalents.<br>\n",
    "    See below for a formula."
   ]
  },
  {
   "attachments": {
    "19ac0b88-43bf-4418-b5c4-c298797ccd92.png": {
     "image/png": "[encoded data removed]"
    }
   },
   "cell_type": "markdown",
   "id": "5009c138-18ac-4810-b7e3-7e78dbe13289",
   "metadata": {},
   "source": [
    "![image.png](attachment:19ac0b88-43bf-4418-b5c4-c298797ccd92.png)"
   ]
  },
  {
   "cell_type": "code",
   "execution_count": 40,
   "id": "c1fac37f-7591-4beb-9a26-8af692266690",
   "metadata": {
    "scrolled": true
   },
   "outputs": [
    {
     "name": "stdout",
     "output_type": "stream",
     "text": [
      "0 degrees Celsius is 32.00 degrees Fahrenheit\n",
      "1 degrees Celsius is 33.80 degrees Fahrenheit\n",
      "2 degrees Celsius is 35.60 degrees Fahrenheit\n",
      "3 degrees Celsius is 37.40 degrees Fahrenheit\n",
      "4 degrees Celsius is 39.20 degrees Fahrenheit\n",
      "5 degrees Celsius is 41.00 degrees Fahrenheit\n",
      "6 degrees Celsius is 42.80 degrees Fahrenheit\n",
      "7 degrees Celsius is 44.60 degrees Fahrenheit\n",
      "8 degrees Celsius is 46.40 degrees Fahrenheit\n",
      "9 degrees Celsius is 48.20 degrees Fahrenheit\n",
      "10 degrees Celsius is 50.00 degrees Fahrenheit\n",
      "11 degrees Celsius is 51.80 degrees Fahrenheit\n",
      "12 degrees Celsius is 53.60 degrees Fahrenheit\n",
      "13 degrees Celsius is 55.40 degrees Fahrenheit\n",
      "14 degrees Celsius is 57.20 degrees Fahrenheit\n",
      "15 degrees Celsius is 59.00 degrees Fahrenheit\n",
      "16 degrees Celsius is 60.80 degrees Fahrenheit\n",
      "17 degrees Celsius is 62.60 degrees Fahrenheit\n",
      "18 degrees Celsius is 64.40 degrees Fahrenheit\n",
      "19 degrees Celsius is 66.20 degrees Fahrenheit\n",
      "20 degrees Celsius is 68.00 degrees Fahrenheit\n"
     ]
    }
   ],
   "source": [
    "# Answer\n",
    "for celsius in range(21):\n",
    "    fahrenheit = (9/5) * celsius + 32\n",
    "    print(f\"{celsius} degrees Celsius is {fahrenheit:.2f} degrees Fahrenheit\")\n",
    "\n"
   ]
  },
  {
   "cell_type": "markdown",
   "id": "7b056fed-9baa-4f57-bfd2-7dfdca346226",
   "metadata": {},
   "source": [
    "6. (2) Use while-loop to answer Q6-1."
   ]
  },
  {
   "cell_type": "code",
   "execution_count": 41,
   "id": "a812c3bc-62ca-4400-9c42-8c40bf954bd8",
   "metadata": {},
   "outputs": [
    {
     "name": "stdout",
     "output_type": "stream",
     "text": [
      "0 degrees Celsius is 32.00 degrees Fahrenheit\n",
      "1 degrees Celsius is 33.80 degrees Fahrenheit\n",
      "2 degrees Celsius is 35.60 degrees Fahrenheit\n",
      "3 degrees Celsius is 37.40 degrees Fahrenheit\n",
      "4 degrees Celsius is 39.20 degrees Fahrenheit\n",
      "5 degrees Celsius is 41.00 degrees Fahrenheit\n",
      "6 degrees Celsius is 42.80 degrees Fahrenheit\n",
      "7 degrees Celsius is 44.60 degrees Fahrenheit\n",
      "8 degrees Celsius is 46.40 degrees Fahrenheit\n",
      "9 degrees Celsius is 48.20 degrees Fahrenheit\n",
      "10 degrees Celsius is 50.00 degrees Fahrenheit\n",
      "11 degrees Celsius is 51.80 degrees Fahrenheit\n",
      "12 degrees Celsius is 53.60 degrees Fahrenheit\n",
      "13 degrees Celsius is 55.40 degrees Fahrenheit\n",
      "14 degrees Celsius is 57.20 degrees Fahrenheit\n",
      "15 degrees Celsius is 59.00 degrees Fahrenheit\n",
      "16 degrees Celsius is 60.80 degrees Fahrenheit\n",
      "17 degrees Celsius is 62.60 degrees Fahrenheit\n",
      "18 degrees Celsius is 64.40 degrees Fahrenheit\n",
      "19 degrees Celsius is 66.20 degrees Fahrenheit\n",
      "20 degrees Celsius is 68.00 degrees Fahrenheit\n"
     ]
    }
   ],
   "source": [
    "# Answer\n",
    "\n",
    "celsius = 0\n",
    "\n",
    "while celsius <= 20:\n",
    "    fahrenheit = (9/5) * celsius + 32\n",
    "    print(f\"{celsius} degrees Celsius is {fahrenheit:.2f} degrees Fahrenheit\")\n",
    "    celsius += 1\n"
   ]
  },
  {
   "cell_type": "markdown",
   "id": "7ddada14-7c4e-4ef1-971a-0d6a5fa3b4e4",
   "metadata": {},
   "source": [
    "7. Write a program that continuously asks the user to enter numbers until they enter a specific exit code (e.g., 0). Once the exit code is entered, the program should print out the average of all the numbers entered.\n",
    "\n",
    "    Hint 1: Use while-loop since you don't know when a user will enter an exit code.<br>\n",
    "    Hint 2: Create two variables. The first one is to store the sum of numbers over iterations; the second one is to store the number of iterations so that you can compute the average in the end. "
   ]
  },
  {
   "cell_type": "code",
   "execution_count": 45,
   "id": "0552b64a-1a5a-418a-af2d-22dfccbfade4",
   "metadata": {},
   "outputs": [
    {
     "name": "stdout",
     "output_type": "stream",
     "text": [
      "Enter the exit code: 4\n"
     ]
    }
   ],
   "source": [
    "exit_code = int(input('Enter the exit code: '))\n"
   ]
  },
  {
   "cell_type": "code",
   "execution_count": 46,
   "id": "764b736e-2900-4763-b939-6b3b57599181",
   "metadata": {},
   "outputs": [
    {
     "name": "stdout",
     "output_type": "stream",
     "text": [
      "Enter a number (enter the exit code to stop): 6\n",
      "Enter a number (enter the exit code to stop): 7\n",
      "Enter a number (enter the exit code to stop): 8\n",
      "Enter a number (enter the exit code to stop): 6\n",
      "Enter a number (enter the exit code to stop): 5\n",
      "Enter a number (enter the exit code to stop): 4\n",
      "The average of the numbers entered is: 6.40\n"
     ]
    }
   ],
   "source": [
    "# Ans\n",
    "\n",
    "total = 0\n",
    "count = 0\n",
    "\n",
    "while True:\n",
    "    num = int(input('Enter a number (enter the exit code to stop): '))\n",
    "    \n",
    "    if num == exit_code:\n",
    "        break\n",
    "    \n",
    "    total += num\n",
    "    count += 1\n",
    "\n",
    "if count > 0:\n",
    "    average = total / count\n",
    "    print(f\"The average of the numbers entered is: {average:.2f}\")\n",
    "else:\n",
    "    print(\"No numbers were entered.\")\n"
   ]
  },
  {
   "cell_type": "markdown",
   "id": "78d856d1-c500-4572-b5c0-bd01cfcae6f9",
   "metadata": {},
   "source": [
    "8. Write a guessing game where the computer randomly selects a number between 1 and 10, and the user has to guess it. After each guess, the program tells the user whether their guess was too high, too low, or correct. The game continues until the correct number is guessed.<br>\n",
    "\n",
    "    Hint 1: target will store the number that a computer randomly selects.<br>\n",
    "    Hint 2: Use while-loop. A user should keep being asked until their guess is correct (with input() function). Store an input to a variable, guess <br>\n",
    "    Hint 3: Think through when a while loop should be terminated; and when \"too low\" or \"too high\" should be printed.<br>\n",
    "    Hint 4: Don't forget to convert the result of your input() function to integer.<br>\n",
    "    Hint 5: Assume that a user will always enter a number to input() function "
   ]
  },
  {
   "cell_type": "code",
   "execution_count": 48,
   "id": "50bddc46-5422-4e37-a50b-c6b06d528f20",
   "metadata": {},
   "outputs": [],
   "source": [
    "import random\n",
    "target = random.randint(1,10)\n",
    "guess = 0"
   ]
  },
  {
   "cell_type": "code",
   "execution_count": 49,
   "id": "ee490805-de5c-4999-9450-21bfe5a9eab1",
   "metadata": {},
   "outputs": [
    {
     "name": "stdout",
     "output_type": "stream",
     "text": [
      "Guess the number between 1 and 10: 5\n",
      "Too high! Try again.\n",
      "Guess the number between 1 and 10: 6\n",
      "Too high! Try again.\n",
      "Guess the number between 1 and 10: 5\n",
      "Too high! Try again.\n",
      "Guess the number between 1 and 10: 4\n",
      "Too high! Try again.\n",
      "Guess the number between 1 and 10: 3\n",
      "Too high! Try again.\n",
      "Guess the number between 1 and 10: 2\n",
      "Congratulations! You guessed the correct number: 2\n"
     ]
    }
   ],
   "source": [
    "# Answer\n",
    "while guess != target:\n",
    "    # Prompt the user to guess the number\n",
    "    guess = int(input(\"Guess the number between 1 and 10: \"))\n",
    "\n",
    "    if guess < target:\n",
    "        print(\"Too low! Try again.\")\n",
    "    elif guess > target:\n",
    "        print(\"Too high! Try again.\")\n",
    "    else:\n",
    "        print(f\"Congratulations! You guessed the correct number: {target}\")"
   ]
  },
  {
   "cell_type": "code",
   "execution_count": null,
   "id": "9d3d4d12",
   "metadata": {},
   "outputs": [],
   "source": []
  }
 ],
 "metadata": {
  "kernelspec": {
   "display_name": "Python 3 (ipykernel)",
   "language": "python",
   "name": "python3"
  },
  "language_info": {
   "codemirror_mode": {
    "name": "ipython",
    "version": 3
   },
   "file_extension": ".py",
   "mimetype": "text/x-python",
   "name": "python",
   "nbconvert_exporter": "python",
   "pygments_lexer": "ipython3",
   "version": "3.11.5"
  },
  "varInspector": {
   "cols": {
    "lenName": 16,
    "lenType": 16,
    "lenVar": 40
   },
   "kernels_config": {
    "python": {
     "delete_cmd_postfix": "",
     "delete_cmd_prefix": "del ",
     "library": "var_list.py",
     "varRefreshCmd": "print(var_dic_list())"
    },
    "r": {
     "delete_cmd_postfix": ") ",
     "delete_cmd_prefix": "rm(",
     "library": "var_list.r",
     "varRefreshCmd": "cat(var_dic_list()) "
    }
   },
   "types_to_exclude": [
    "module",
    "function",
    "builtin_function_or_method",
    "instance",
    "_Feature"
   ],
   "window_display": false
  }
 },
 "nbformat": 4,
 "nbformat_minor": 5
}
