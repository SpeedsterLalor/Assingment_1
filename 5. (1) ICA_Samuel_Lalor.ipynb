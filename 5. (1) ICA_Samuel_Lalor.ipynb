{
 "cells": [
  {
   "cell_type": "markdown",
   "id": "f40352bb-748f-4d26-a28e-0f9e110fb186",
   "metadata": {},
   "source": [
    "1. Convert the following code to for-loop and while-loop"
   ]
  },
  {
   "cell_type": "markdown",
   "id": "cd7b668c-bb1a-4971-80f5-93690e6733ae",
   "metadata": {},
   "source": [
    "print(10)\n",
    "print(\"-------\")\n",
    "print(20)\n",
    "print(\"-------\")\n",
    "print(30)\n",
    "print(\"-------\")"
   ]
  },
  {
   "cell_type": "code",
   "execution_count": 1,
   "id": "5405dd1e-0920-48ee-bb5b-00a0683bb727",
   "metadata": {
    "scrolled": true
   },
   "outputs": [
    {
     "name": "stdout",
     "output_type": "stream",
     "text": [
      "10\n",
      "-------\n",
      "20\n",
      "-------\n",
      "30\n",
      "-------\n"
     ]
    }
   ],
   "source": [
    "# Answer - for loop\n",
    "numbers = [10, 20, 30]\n",
    "\n",
    "for num in numbers:\n",
    "    print(num)\n",
    "    print('-------')\n"
   ]
  },
  {
   "cell_type": "code",
   "execution_count": 1,
   "id": "1798f962-e3eb-4465-b762-c9ea16df7dd9",
   "metadata": {},
   "outputs": [
    {
     "name": "stdout",
     "output_type": "stream",
     "text": [
      "10\n",
      "------\n",
      "20\n",
      "------\n",
      "30\n",
      "------\n"
     ]
    }
   ],
   "source": [
    "# Answer - while loop\n",
    "numbers = [10, 20, 30]\n",
    "i = 0\n",
    "while i < len(numbers):\n",
    "    print(numbers[i])\n",
    "    print('------')\n",
    "    i += 1\n",
    "\n"
   ]
  },
  {
   "cell_type": "markdown",
   "id": "d50a9592-9c9b-458c-988a-15722ee36f6e",
   "metadata": {},
   "source": [
    "2. Convert the following code to for-loop and while-loop.<br>\n",
    "Hint: use range() function."
   ]
  },
  {
   "cell_type": "markdown",
   "id": "77b290b4-eb87-4632-a927-c9411d48ec30",
   "metadata": {},
   "source": [
    "print(\"-------\")<br>\n",
    "print(\"-------\")<br>\n",
    "print(\"-------\")<br>\n",
    "print(\"-------\")<br>"
   ]
  },
  {
   "cell_type": "code",
   "execution_count": 8,
   "id": "45a3fe1a-10e7-4d5b-be73-ae7612449ea2",
   "metadata": {},
   "outputs": [
    {
     "name": "stdout",
     "output_type": "stream",
     "text": [
      "-------\n",
      "-------\n",
      "-------\n",
      "-------\n"
     ]
    }
   ],
   "source": [
    "# Answer - for loop\n",
    "\n",
    "for a in range(4):\n",
    "    print(\"-------\")\n",
    "    \n",
    "\n"
   ]
  },
  {
   "cell_type": "code",
   "execution_count": 10,
   "id": "37bc717b-5899-49cf-a9e7-a63bb694502b",
   "metadata": {},
   "outputs": [
    {
     "name": "stdout",
     "output_type": "stream",
     "text": [
      "-------\n",
      "-------\n",
      "-------\n",
      "-------\n"
     ]
    }
   ],
   "source": [
    "# Answer - while loop\n",
    "i = 0\n",
    "while i < 4:\n",
    "    print(\"-------\")\n",
    "    i += 1\n"
   ]
  },
  {
   "cell_type": "markdown",
   "id": "83af0784-3896-41b5-8144-7912602bcfae",
   "metadata": {},
   "source": [
    "3. Convert the following code to for-loop and while-loop"
   ]
  },
  {
   "cell_type": "markdown",
   "id": "eed9f27b-5890-471d-87f8-c251f8f34fcb",
   "metadata": {},
   "source": [
    "print(\"-------\")<br>\n",
    "print(10)<br>\n",
    "print(20)<br>\n",
    "print(30)<br>"
   ]
  },
  {
   "cell_type": "code",
   "execution_count": 11,
   "id": "d648b3dd-ee07-47c2-8e3b-4d0c75930f64",
   "metadata": {},
   "outputs": [
    {
     "name": "stdout",
     "output_type": "stream",
     "text": [
      "-------\n",
      "10\n",
      "20\n",
      "30\n"
     ]
    }
   ],
   "source": [
    "# Answer - for loop\n",
    "numbers = [10,20,30]\n",
    "print(\"-------\")\n",
    "for num in numbers:\n",
    "    print(num)\n",
    "\n"
   ]
  },
  {
   "cell_type": "code",
   "execution_count": 12,
   "id": "9f609765-56b8-46de-99b9-a5435ce8ba8a",
   "metadata": {},
   "outputs": [
    {
     "name": "stdout",
     "output_type": "stream",
     "text": [
      "-------\n",
      "10\n",
      "20\n",
      "30\n"
     ]
    }
   ],
   "source": [
    "# Answer - while loop\n",
    "i = 0\n",
    "print(\"-------\")\n",
    "while i < len(numbers):\n",
    "    print(numbers[i])\n",
    "    i += 1\n",
    "\n"
   ]
  },
  {
   "cell_type": "markdown",
   "id": "f93ef1b1-a1fc-4fcc-947a-0d4d4b00a4bc",
   "metadata": {},
   "source": [
    "4. Using firm_list, print each firm name and its number of string<br>\n",
    "Hint: use len() function"
   ]
  },
  {
   "cell_type": "code",
   "execution_count": 20,
   "id": "1233e711-927d-438f-bf51-054c6d17f532",
   "metadata": {},
   "outputs": [],
   "source": [
    "# The result should be like the one below\n",
    "# apple: 5\n",
    "# google: 6\n",
    "# meta: 4\n",
    "\n",
    "firm_list = ['apple', 'google', 'meta']"
   ]
  },
  {
   "cell_type": "code",
   "execution_count": 23,
   "id": "e954d516-ddee-497e-9b8b-e1d8106fcf33",
   "metadata": {},
   "outputs": [
    {
     "name": "stdout",
     "output_type": "stream",
     "text": [
      "apple: 5\n",
      "google: 6\n",
      "meta: 4\n"
     ]
    }
   ],
   "source": [
    "# Answer\n",
    "\n",
    "for a in firm_list:\n",
    "    print(f\"{a}: {len(a)}\")\n",
    "\n"
   ]
  },
  {
   "cell_type": "markdown",
   "id": "7760ce33-75b5-459d-9bf1-9012efbcdf5d",
   "metadata": {},
   "source": [
    "5. Use for-loop and range() function to create a list that displays 1 through 10 and their respective squares<br>\n",
    "(expential operator: **)"
   ]
  },
  {
   "cell_type": "code",
   "execution_count": null,
   "id": "e114cd84-20d2-4ccd-8b27-66240b76c132",
   "metadata": {},
   "outputs": [],
   "source": [
    "# The result should be like the one below\n",
    "# 1 - 1\n",
    "# 2 - 4\n",
    "# 3 - 9\n",
    "# 4 - 16\n",
    "# 5 - 25\n",
    "# 6 - 36\n",
    "# 7 - 49\n",
    "# 8 - 64\n",
    "# 9 - 81\n",
    "# 10 - 100"
   ]
  },
  {
   "cell_type": "code",
   "execution_count": 32,
   "id": "6738dc6e-a3ac-4f8b-ac90-ee3aa5256137",
   "metadata": {},
   "outputs": [
    {
     "name": "stdout",
     "output_type": "stream",
     "text": [
      "1 - 1\n",
      "2 - 4\n",
      "3 - 9\n",
      "4 - 16\n",
      "5 - 25\n",
      "6 - 36\n",
      "7 - 49\n",
      "8 - 64\n",
      "9 - 81\n",
      "10 - 100\n"
     ]
    }
   ],
   "source": [
    "# Answer\n",
    "for a in range(1,11):\n",
    "    print(f'{a} - {a**2}')\n"
   ]
  },
  {
   "cell_type": "markdown",
   "id": "ab3e6e15-aa77-4e8b-ba77-f02f83a29acf",
   "metadata": {},
   "source": [
    "6. Print strings in the list below whose length is greater than or equal to 3<br>\n",
    "Use len() function"
   ]
  },
  {
   "cell_type": "code",
   "execution_count": 34,
   "id": "7a1e5c17-3288-4291-869d-254b863eb1b0",
   "metadata": {},
   "outputs": [],
   "source": [
    "li_str = ['spring', 'break', 'is', 'over', ':(']"
   ]
  },
  {
   "cell_type": "code",
   "execution_count": 35,
   "id": "b3f7034e-9b03-4c7f-b508-560202907d5e",
   "metadata": {},
   "outputs": [
    {
     "name": "stdout",
     "output_type": "stream",
     "text": [
      "spring\n",
      "break\n",
      "over\n"
     ]
    }
   ],
   "source": [
    "# Answer\n",
    "for a in li_str:\n",
    "    if len(a) >= 3:\n",
    "        print(a)\n",
    "\n"
   ]
  },
  {
   "cell_type": "markdown",
   "id": "8e0a9514-3323-4f80-92df-ce189c1fdce3",
   "metadata": {},
   "source": [
    "7. Create a list that contains squared numbers from 1 to 10<br>\n",
    "Use for-loop and range()"
   ]
  },
  {
   "cell_type": "code",
   "execution_count": 12,
   "id": "9e859416-0e4b-43b9-a2ae-a52113c68f05",
   "metadata": {},
   "outputs": [
    {
     "name": "stdout",
     "output_type": "stream",
     "text": [
      "[1, 4, 9, 16, 25, 36, 49, 64, 81, 100]\n"
     ]
    }
   ],
   "source": [
    "# Answer\n",
    "num_sq = []\n",
    "for a in range(1,11):\n",
    "    num_sq.append(a**2)\n",
    "print(num_sq)"
   ]
  },
  {
   "cell_type": "markdown",
   "id": "3471cffc-951c-41b1-a867-51ea4cde8ee1",
   "metadata": {},
   "source": [
    "8. Create a list that contains squared numbers from 1 to 10<br>\n",
    "Use while-loop"
   ]
  },
  {
   "cell_type": "code",
   "execution_count": 10,
   "id": "0f63b061-1a11-4a25-b7c2-e1da781202e2",
   "metadata": {},
   "outputs": [
    {
     "name": "stdout",
     "output_type": "stream",
     "text": [
      "['1 : 1', '2 : 4', '3 : 9', '4 : 16', '5 : 25', '6 : 36', '7 : 49', '8 : 64', '9 : 81', '10 : 100']\n"
     ]
    }
   ],
   "source": [
    "# Answer\n",
    "num_sq = []\n",
    "i = 1\n",
    "while i < 11:\n",
    "    num_sq.append(f\"{i} : {i**2}\")\n",
    "    i += 1\n",
    "print(num_sq)\n"
   ]
  },
  {
   "cell_type": "markdown",
   "id": "7a21c017-1358-42b3-b275-31b759be0d8c",
   "metadata": {},
   "source": [
    "9. Create a list that contains squared numbers from 1 to 10<br>\n",
    "Use list comprehension and range()"
   ]
  },
  {
   "cell_type": "code",
   "execution_count": 14,
   "id": "d64cc990-cc4c-4ddb-9425-044072b4707c",
   "metadata": {},
   "outputs": [
    {
     "name": "stdout",
     "output_type": "stream",
     "text": [
      "[1, 4, 9, 16, 25, 36, 49, 64, 81, 100]\n"
     ]
    }
   ],
   "source": [
    "# Answer\n",
    "numbers = []\n",
    "numbers = [a**2 for a in range(1,11)]\n",
    "print(numbers)"
   ]
  },
  {
   "cell_type": "code",
   "execution_count": 15,
   "id": "32b7373e",
   "metadata": {},
   "outputs": [
    {
     "name": "stdout",
     "output_type": "stream",
     "text": [
      "[1, 4, 9, 16, 25, 36, 49, 64, 81, 100]\n"
     ]
    }
   ],
   "source": [
    "numbers =[]\n",
    "for a in range(1,11):\n",
    "    numbers.append(a**2)\n",
    "print(numbers)\n"
   ]
  },
  {
   "cell_type": "code",
   "execution_count": null,
   "id": "eb346100",
   "metadata": {},
   "outputs": [],
   "source": []
  },
  {
   "cell_type": "code",
   "execution_count": null,
   "id": "9132d4be",
   "metadata": {},
   "outputs": [],
   "source": []
  },
  {
   "cell_type": "markdown",
   "id": "f013894d-95d9-4d94-9486-529eb0bc8f85",
   "metadata": {},
   "source": [
    "10. Create a program that asks a user to enter a positive number.<br>\n",
    "Use while-loop and keep asking it until they enter a positive number.<br>\n",
    "\n",
    "Using for loop, print the sum of even numbers from 1 through the entered positive numbers.<br>\n",
    "For example, if 10 is entered, 2+4+6+8+10 = 30 should be printed<br>\n",
    "Hint 1: To iterate over 1 through the entered number, use range(1, entered_number + 1).<br>\n",
    "Hint 2: Use % operator to evaluate if a number is even"
   ]
  },
  {
   "cell_type": "code",
   "execution_count": 2,
   "id": "7a9acf45-aca1-4015-b495-15efe92ca452",
   "metadata": {},
   "outputs": [
    {
     "name": "stdout",
     "output_type": "stream",
     "text": [
      "Enter a postive number: 75\n",
      "1406\n"
     ]
    }
   ],
   "source": [
    "# Answer\n",
    "pnum = -1\n",
    "while pnum <= 0:        \n",
    "    pnum = int(input('Enter a postive number: '))\n",
    "\n",
    "even_sum = 0\n",
    "\n",
    "for num in range(1, pnum + 1):\n",
    "    if num % 2 == 0:\n",
    "        even_sum += num\n",
    "print(even_sum)\n",
    "\n",
    "        "
   ]
  },
  {
   "cell_type": "code",
   "execution_count": 3,
   "id": "2bc2a13a",
   "metadata": {},
   "outputs": [
    {
     "data": {
      "text/plain": [
       "75"
      ]
     },
     "execution_count": 3,
     "metadata": {},
     "output_type": "execute_result"
    }
   ],
   "source": [
    "pnum"
   ]
  },
  {
   "cell_type": "code",
   "execution_count": null,
   "id": "33fc0c4a",
   "metadata": {},
   "outputs": [],
   "source": []
  }
 ],
 "metadata": {
  "kernelspec": {
   "display_name": "Python 3 (ipykernel)",
   "language": "python",
   "name": "python3"
  },
  "language_info": {
   "codemirror_mode": {
    "name": "ipython",
    "version": 3
   },
   "file_extension": ".py",
   "mimetype": "text/x-python",
   "name": "python",
   "nbconvert_exporter": "python",
   "pygments_lexer": "ipython3",
   "version": "3.11.5"
  },
  "varInspector": {
   "cols": {
    "lenName": 16,
    "lenType": 16,
    "lenVar": 40
   },
   "kernels_config": {
    "python": {
     "delete_cmd_postfix": "",
     "delete_cmd_prefix": "del ",
     "library": "var_list.py",
     "varRefreshCmd": "print(var_dic_list())"
    },
    "r": {
     "delete_cmd_postfix": ") ",
     "delete_cmd_prefix": "rm(",
     "library": "var_list.r",
     "varRefreshCmd": "cat(var_dic_list()) "
    }
   },
   "types_to_exclude": [
    "module",
    "function",
    "builtin_function_or_method",
    "instance",
    "_Feature"
   ],
   "window_display": false
  }
 },
 "nbformat": 4,
 "nbformat_minor": 5
}
