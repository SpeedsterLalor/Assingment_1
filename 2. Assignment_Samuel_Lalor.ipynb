{
 "cells": [
  {
   "cell_type": "markdown",
   "id": "45fc0383-4f62-4f64-9d8b-c4d6e117652d",
   "metadata": {},
   "source": [
    "1. (1 point) Using string indexing/slicing/step, print ',,' (two commas) from str_1 "
   ]
  },
  {
   "cell_type": "code",
   "execution_count": 22,
   "id": "ecdaddf3-93e5-4c91-8268-310ed3f267aa",
   "metadata": {},
   "outputs": [],
   "source": [
    "str_1 = '5,000,000'"
   ]
  },
  {
   "cell_type": "code",
   "execution_count": 23,
   "id": "30f6cbb7-7b00-4249-a8fb-92b05cb1b01d",
   "metadata": {},
   "outputs": [
    {
     "name": "stdout",
     "output_type": "stream",
     "text": [
      ",,\n"
     ]
    }
   ],
   "source": [
    "# Answer\n",
    "print(str_1[1:6:4])\n"
   ]
  },
  {
   "cell_type": "markdown",
   "id": "d15ff63f-8d5b-4d64-bf73-801591122838",
   "metadata": {},
   "source": [
    "2. (1 point) Write a program that asks users to input a sentence, removes any white spaces in it, and prints the outcome\n",
    "\n",
    "Hint 1) ' ': whitespace<br>\n",
    "Hint 2) '': absence of any string"
   ]
  },
  {
   "cell_type": "code",
   "execution_count": 24,
   "id": "b0ebf7ab-b2c7-4444-a289-3361500647c9",
   "metadata": {},
   "outputs": [
    {
     "name": "stdout",
     "output_type": "stream",
     "text": [
      "Write any sentence: we love people\n",
      "welovepeople\n"
     ]
    }
   ],
   "source": [
    "# Answer\n",
    "sent = input(\"Write any sentence: \")\n",
    "\n",
    "sent = sent.replace(' ','')\n",
    "\n",
    "print(sent)\n",
    "\n"
   ]
  },
  {
   "cell_type": "markdown",
   "id": "f0f5f56a-bdea-4786-90c5-5dee478049cc",
   "metadata": {},
   "source": [
    "3. (1 point) Assign the string, He's going to say, \"Hello, World!\", to str_2.<br>\n",
    "Then, slice str_2 and extract the word, World."
   ]
  },
  {
   "cell_type": "code",
   "execution_count": 1,
   "id": "cd369b00-523c-40d7-b31a-fc4e2923a3f3",
   "metadata": {},
   "outputs": [
    {
     "name": "stdout",
     "output_type": "stream",
     "text": [
      "World\n"
     ]
    },
    {
     "data": {
      "text/plain": [
       "'World'"
      ]
     },
     "execution_count": 1,
     "metadata": {},
     "output_type": "execute_result"
    }
   ],
   "source": [
    "# Answer\n",
    "\n",
    "str_2 = 'He\\'s going to say, \"Hello, World!\"'\n",
    "\n",
    "print(str_2[-7:-2])\n",
    "\n",
    "#ANOTHER METHOD\n",
    "\n",
    "index_w = str_2.find('W') # THE INDEX OF THE FIRST 'W'\n",
    "str_2[index_w: index_w+5]"
   ]
  },
  {
   "cell_type": "markdown",
   "id": "0d1c6c31-f5bf-4549-92ab-7ef580537e4c",
   "metadata": {},
   "source": [
    "4. (1 point) Write a program that a) asks users to enter any string that consists solely of alphabetical letters,<br>\n",
    "b) converts the first and the last letter into uppercase letters,<br>\n",
    "and c) prints them.\n",
    "\n",
    "For example, if a user enters \"python Jupyter Notebook\", P and K should be printed"
   ]
  },
  {
   "cell_type": "code",
   "execution_count": 42,
   "id": "1b09ae10-0e53-4f0b-9afd-fb7c4281a55c",
   "metadata": {},
   "outputs": [
    {
     "name": "stdout",
     "output_type": "stream",
     "text": [
      "Enter string only with alphabetical letters python Jupyter Notebook: We go the store\n",
      "W and E\n"
     ]
    }
   ],
   "source": [
    "# Answer\n",
    "\n",
    "alpha = input('Enter string only with alphabetical letters python Jupyter Notebook: ')\n",
    "\n",
    "alpha_first = alpha[0].upper()\n",
    "\n",
    "alpha_last = alpha[-1].upper()\n",
    "\n",
    "print(f'{alpha_first} and {alpha_last}')"
   ]
  },
  {
   "cell_type": "markdown",
   "id": "eda460a4-a6b6-410a-ad05-f1bd4428abc3",
   "metadata": {},
   "source": [
    "5.(1 point) Write a program that a) prompts users to enter two different strings (with two input() functions),<br>\n",
    "and b) displays how often the second string appears within the first string, while ignoring the case.\n",
    "\n",
    "For example, if users first entered \"Washington State\", and then \"state\",<br>\n",
    "The program should return 1 (since it ignores the case and state appears once in Washington State)"
   ]
  },
  {
   "cell_type": "code",
   "execution_count": 47,
   "id": "8376a77c",
   "metadata": {},
   "outputs": [
    {
     "name": "stdout",
     "output_type": "stream",
     "text": [
      "What college do you attend: WSU\n",
      "What is your favorite football team: WSU\n",
      "\n",
      "The second string appears within the first string 1 times.\n"
     ]
    }
   ],
   "source": [
    "# Answer\n",
    "#prompting users for their car model and year\n",
    "\n",
    "string1 = input('What college do you attend: ')\n",
    "string2 = input('What is your favorite football team: ')\n",
    "\n",
    "count = string1.lower().count(string2.lower())\n",
    "\n",
    "print(f\"\\nThe second string appears within the first string {count} times.\")"
   ]
  },
  {
   "cell_type": "markdown",
   "id": "78168b30-390c-4524-bedd-317b2198d6c7",
   "metadata": {},
   "source": [
    "6. (1 point) Write a program that a) asks users to enter string first and a number (n) (two input functions),<br>\n",
    "b) removes the n-th letter in the string,<br>\n",
    "and c) display the outcome.<br>\n",
    "For brevity, assume that users won't enter a number larger than the length of the string entered first.\n",
    "\n",
    "For example, if users enter string 'abcde' and number 3, the program should return 'abde' without 'c'."
   ]
  },
  {
   "cell_type": "code",
   "execution_count": 52,
   "id": "31b12617",
   "metadata": {},
   "outputs": [
    {
     "name": "stdout",
     "output_type": "stream",
     "text": [
      "Enter a number: 4\n",
      "Enter a string: We got pancakes\n",
      "We ot pancakes\n"
     ]
    }
   ],
   "source": [
    "# Answer\n",
    "n = int(input('Enter a number: '))\n",
    "\n",
    "string = input('Enter a string: ')\n",
    "\n",
    "new_string = string[:n-1] + string[n:]\n",
    "\n",
    "print(new_string)"
   ]
  },
  {
   "cell_type": "markdown",
   "id": "7b5d81be-1b44-498f-b1a8-344467cb9004",
   "metadata": {},
   "source": [
    "7. (1 point) Write a program that a) asks users to enter their birth date and year in the form of MM-DD-YYYY,<br>\n",
    "and b) prints the entered information as follows: \"Your birth month is MM, birth date is DD, and birth year is YYYY.\"<br>\n",
    "\n",
    "For example, if 01-01-1999 was entered, <br>\n",
    "\"Your birth month is 01, your birth date is 01, and your birth year is 1999.\""
   ]
  },
  {
   "cell_type": "code",
   "execution_count": 54,
   "id": "810217a2",
   "metadata": {},
   "outputs": [
    {
     "name": "stdout",
     "output_type": "stream",
     "text": [
      "Enter your birthday in the following format (MM-DD-YYYY): 01-22-2003\n",
      "Your birth month is 01, your birth date is 22, and your birth year is 2003.\n"
     ]
    }
   ],
   "source": [
    "# Answer\n",
    "\n",
    "birthdate = input('Enter your birthday in the following format (MM-DD-YYYY): ')\n",
    "\n",
    "month = birthdate[0:2]\n",
    "\n",
    "day = birthdate[3:5]\n",
    "\n",
    "year = birthdate[6:10]\n",
    "\n",
    "print(f'\\nYour birth month is {month}, your birth date is {day}, and your birth year is {year}.')\n"
   ]
  },
  {
   "cell_type": "markdown",
   "id": "7e775485-12f7-4173-80ec-8ac997039f49",
   "metadata": {
    "scrolled": true
   },
   "source": [
    "8. (1 point) Go online and find one of the string methods that removes the white spaces at the beginning and at the end of the string.<br>\n",
    "Then, using the method, write a program that removes the empty space before Carson and after Business in q_8.<br>\n",
    "If your answer is correct, print(q_8) will print out 'Carson College of Business' without any white space at the beginning and at the end."
   ]
  },
  {
   "cell_type": "code",
   "execution_count": 55,
   "id": "ab826b16",
   "metadata": {},
   "outputs": [],
   "source": [
    "q_8 = '     Carson College of Business       '"
   ]
  },
  {
   "cell_type": "code",
   "execution_count": 63,
   "id": "27d6df3e-41c6-4e98-87ca-8d4cd82b16c6",
   "metadata": {},
   "outputs": [
    {
     "name": "stdout",
     "output_type": "stream",
     "text": [
      "Carson College of Business\n"
     ]
    }
   ],
   "source": [
    "# Answer\n",
    "q_8 = '     Carson College of Business       '\n",
    "q_8 = q_8.strip(\" \")\n",
    "print(q_8)"
   ]
  },
  {
   "cell_type": "code",
   "execution_count": null,
   "id": "fd7287a5-b9c6-493b-9028-d2c0a0aaf270",
   "metadata": {},
   "outputs": [],
   "source": [
    "# try this after running your answer\n",
    "print(q_8)"
   ]
  },
  {
   "cell_type": "markdown",
   "id": "0ed7601e-363f-4324-b253-a832bc4abdc7",
   "metadata": {},
   "source": [
    "9. (2 points) Write a program that a) asks users to enter any string,<br>\n",
    "b) counts vowels and consonants, <br>\n",
    "and c) displays the outcome as an example below.<br>\n",
    "\n",
    "For example, if 'Apple Banana' was entered, the result should be like this:<br>\n",
    "In the entered string, vowels appear 5 times, and consonants appear 6 times.\n",
    "\n",
    "For brevity, assume that users will enter only alphabetical letters.<br>\n",
    "However, they can possibly enter an empty space.\n",
    "\n",
    "Hint: vowels include a, e, i, o, u; the rest of the alphabets are consonants<br>"
   ]
  },
  {
   "cell_type": "code",
   "execution_count": 3,
   "id": "54b8128f",
   "metadata": {},
   "outputs": [
    {
     "name": "stdout",
     "output_type": "stream",
     "text": [
      "Enter a string: We had a great time\n",
      "\n",
      "In the entered string, vowels appear 7 times, and consonants appear 8 times.\n",
      "\n",
      "In the entered string, vowels appear 7 times, and consonants appear 8 times.\n"
     ]
    }
   ],
   "source": [
    "# Answer\n",
    "\n",
    "string = input('Enter a string: ')\n",
    "\n",
    "vowels = 0\n",
    "consonants = 0\n",
    "\n",
    "for char in string.lower():\n",
    "    if char.isalpha():\n",
    "        if char in 'aeiou':\n",
    "            vowels += 1\n",
    "        else:\n",
    "            consonants += 1\n",
    "\n",
    "    \n",
    "print(f'\\nIn the entered string, vowels appear {vowels} times, and consonants appear {consonants} times.')\n",
    "\n",
    "string = string.lower()\n",
    "\n",
    "string = string.replace(' ', '')\n",
    "\n",
    "vowels2 = string.count('a')+string.count('e')+string.count('i')+string.count('o')+string.count('u')\n",
    "\n",
    "consonants2 = len(string) - vowels\n",
    "\n",
    "print(f'\\nIn the entered string, vowels appear {vowels2} times, and consonants appear {consonants2} times.')"
   ]
  },
  {
   "cell_type": "code",
   "execution_count": null,
   "id": "7677bafd",
   "metadata": {},
   "outputs": [],
   "source": []
  },
  {
   "cell_type": "code",
   "execution_count": null,
   "id": "d4ee60c3",
   "metadata": {},
   "outputs": [],
   "source": []
  }
 ],
 "metadata": {
  "kernelspec": {
   "display_name": "Python 3 (ipykernel)",
   "language": "python",
   "name": "python3"
  },
  "language_info": {
   "codemirror_mode": {
    "name": "ipython",
    "version": 3
   },
   "file_extension": ".py",
   "mimetype": "text/x-python",
   "name": "python",
   "nbconvert_exporter": "python",
   "pygments_lexer": "ipython3",
   "version": "3.11.5"
  }
 },
 "nbformat": 4,
 "nbformat_minor": 5
}
