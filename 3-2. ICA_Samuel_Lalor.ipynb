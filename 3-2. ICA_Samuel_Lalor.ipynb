{
 "cells": [
  {
   "cell_type": "markdown",
   "id": "e55b19ab-ba96-480b-8773-c7f2ced08297",
   "metadata": {},
   "source": [
    "1. Create a dictionary containing the following keys related to Oreo cereal on Amazon.<br>\n",
    "    Find the values on this page: https://shorturl.at/coBH0.<br>\n",
    "    When values are unavailable, use the most appropriate ones (e.g., the product's ID).\n",
    "\n",
    "   product's id<br>\n",
    "   product's name<br>\n",
    "   review (its value is dictionary; average rating and the number of reviews are keys)<br>\n",
    "   price<br>\n",
    "   ingredients (its value is list; add each of a few ingredients as an element to the list)<br>\n",
    "   product_link<br>"
   ]
  },
  {
   "cell_type": "code",
   "execution_count": 36,
   "id": "79cc5c85",
   "metadata": {},
   "outputs": [
    {
     "data": {
      "text/plain": [
       "{'id': 12345,\n",
       " 'name': 'OREO Os Breakfast Cereal, Chocolatey OREO Cereal, 17 OZ Box',\n",
       " 'review': {'avg_rating': 4.6, 'no_review': 210},\n",
       " 'price': 4.93,\n",
       " 'ingredients': ['A', 'B', 'C'],\n",
       " 'link': 'https://shorturl.at/coBH0'}"
      ]
     },
     "execution_count": 36,
     "metadata": {},
     "output_type": "execute_result"
    }
   ],
   "source": [
    "# Answer\n",
    "d_product = {\n",
    "                'id': 12345,\n",
    "                'name': 'OREO Os Breakfast Cereal, Chocolatey OREO Cereal, 17 OZ Box',\n",
    "                'review': {'avg_rating': 4.6, 'no_review': 210} ,\n",
    "                'price': 4.93,\n",
    "                'ingredients': ['A', 'B', 'C'],\n",
    "                'link': 'https://shorturl.at/coBH0'\n",
    "            }\n",
    "\n",
    "d_product"
   ]
  },
  {
   "cell_type": "markdown",
   "id": "463a3a25-4c53-4f08-9af4-ad121a60a6da",
   "metadata": {},
   "source": [
    "2. Create a dictionary containing information from one of the product reviews.<br>\n",
    "    Decide on the keys and corresponding values yourself.<br>\n",
    "   There is no single correct answer, but ensure the dictionary is syntactically correct and includes sufficient information.<br>\n",
    "   Consider group information into keys, such as reviewer, review, and purchase, and add detailed information under them.\n"
   ]
  },
  {
   "cell_type": "code",
   "execution_count": 18,
   "id": "1ba2e4f1-f8f3-4470-819a-c17cdb4e8f87",
   "metadata": {},
   "outputs": [
    {
     "data": {
      "text/plain": [
       "{'reviewer_name': 'Abigaile', 'reviewer_country': 'US', 'review_rating': 5}"
      ]
     },
     "execution_count": 18,
     "metadata": {},
     "output_type": "execute_result"
    }
   ],
   "source": [
    "# Answer\n",
    "\n",
    "d_review = {\n",
    "            'reviewer_name': 'Abigaile',\n",
    "            'reviewer_country': 'US',\n",
    "            'review_rating': 5\n",
    "           }\n",
    "\n",
    "\n",
    "d_review"
   ]
  },
  {
   "cell_type": "markdown",
   "id": "ee28fcfc",
   "metadata": {},
   "source": [
    "* Before you work on the questions below, ensure you did Q1 and Q2 correctly."
   ]
  },
  {
   "cell_type": "markdown",
   "id": "4eaf2fe8-ba02-466f-8340-577ba8cba50e",
   "metadata": {},
   "source": [
    "3. (1) As part of the Back to School event, the Oreo cereal will be on sale at a 30% discount.<br>\n",
    "    Change the price in the dictionary you defined in Question 1.<br>\n",
    "    Do not merely assign a raw value.<br>\n",
    "    Retrieve the current price, calculate the discounted value, and then assign it to the price key."
   ]
  },
  {
   "cell_type": "code",
   "execution_count": 33,
   "id": "e100f6e9",
   "metadata": {},
   "outputs": [
    {
     "data": {
      "text/plain": [
       "{'id': 12345,\n",
       " 'name': 'OREO Os Breakfast Cereal, Chocolatey OREO Cereal, 17 OZ Box',\n",
       " 'review': {'avg_rating': 4.6, 'no_review': 210},\n",
       " 'price': 3.4509999999999996,\n",
       " 'ingredients': ['A', 'B', 'C'],\n",
       " 'link': 'https://shorturl.at/coBH0'}"
      ]
     },
     "execution_count": 33,
     "metadata": {},
     "output_type": "execute_result"
    }
   ],
   "source": [
    "# Answer\n",
    "d_product['price'] = d_product['price'] * 0.7\n",
    "\n",
    "d_product"
   ]
  },
  {
   "cell_type": "markdown",
   "id": "85405355-60f9-4169-85db-bb4e7079a2ee",
   "metadata": {},
   "source": [
    "3. (2) It is normally not recommended to modify important information such as the price directly.<br>\n",
    "    Add a new key-value pair, discount_rate, and assign 0.3 to it.<br>\n",
    "    Then, create a new key, current_price, which is computed using the price and discount_rate keys.\n",
    "\n",
    "    Before answering this question, rerun your answer to Question 1."
   ]
  },
  {
   "cell_type": "code",
   "execution_count": 37,
   "id": "ed7cc408",
   "metadata": {},
   "outputs": [
    {
     "data": {
      "text/plain": [
       "{'id': 12345,\n",
       " 'name': 'OREO Os Breakfast Cereal, Chocolatey OREO Cereal, 17 OZ Box',\n",
       " 'review': {'avg_rating': 4.6, 'no_review': 210},\n",
       " 'price': 4.93,\n",
       " 'ingredients': ['A', 'B', 'C'],\n",
       " 'link': 'https://shorturl.at/coBH0',\n",
       " 'discount_rate': 0.3,\n",
       " 'current_price': 3.4509999999999996}"
      ]
     },
     "execution_count": 37,
     "metadata": {},
     "output_type": "execute_result"
    }
   ],
   "source": [
    "# Answer\n",
    "\n",
    "d_product['discount_rate'] = 0.3\n",
    "\n",
    "d_product['current_price'] = d_product['price'] * (1 - d_product['discount_rate'])\n",
    "\n",
    "d_product"
   ]
  },
  {
   "cell_type": "markdown",
   "id": "071ab410-578b-4849-a7b1-179d4bcf789b",
   "metadata": {},
   "source": [
    "3. (3) After completing 3-2, create a new key, original_price, which has the same value as the price key.<br>\n",
    "    Then, delete the existing price key.<br>\n",
    "    This step is intended to rename the price key to original_price.\""
   ]
  },
  {
   "cell_type": "code",
   "execution_count": 38,
   "id": "da7ecb93",
   "metadata": {},
   "outputs": [
    {
     "data": {
      "text/plain": [
       "{'id': 12345,\n",
       " 'name': 'OREO Os Breakfast Cereal, Chocolatey OREO Cereal, 17 OZ Box',\n",
       " 'review': {'avg_rating': 4.6, 'no_review': 210},\n",
       " 'ingredients': ['A', 'B', 'C'],\n",
       " 'link': 'https://shorturl.at/coBH0',\n",
       " 'discount_rate': 0.3,\n",
       " 'current_price': 3.4509999999999996,\n",
       " 'original_price': 4.93}"
      ]
     },
     "execution_count": 38,
     "metadata": {},
     "output_type": "execute_result"
    }
   ],
   "source": [
    "# Answer\n",
    "\n",
    "d_product['original_price'] = d_product['price']\n",
    "\n",
    "del d_product['price']\n",
    "\n",
    "d_product"
   ]
  },
  {
   "cell_type": "markdown",
   "id": "e11f24c0-d6f7-4b3c-9426-739e880f26fd",
   "metadata": {},
   "source": [
    "4. Oreo cereal mad a mistake in their current commerical.<br>\n",
    "    Customers are mad and are now bombing negative reviews.<br>\n",
    "    Average rating becomes 2.5 and the number of reviews becomes 12000.<br>\n",
    "    Update your dictionary, accordingly."
   ]
  },
  {
   "cell_type": "code",
   "execution_count": 41,
   "id": "4ea7ec56",
   "metadata": {},
   "outputs": [
    {
     "data": {
      "text/plain": [
       "{'id': 12345,\n",
       " 'name': 'OREO Os Breakfast Cereal, Chocolatey OREO Cereal, 17 OZ Box',\n",
       " 'review': {'avg_rating': 2.5, 'no_review': 12000},\n",
       " 'ingredients': ['A', 'B', 'C'],\n",
       " 'link': 'https://shorturl.at/coBH0',\n",
       " 'discount_rate': 0.3,\n",
       " 'current_price': 3.4509999999999996,\n",
       " 'original_price': 4.93}"
      ]
     },
     "execution_count": 41,
     "metadata": {},
     "output_type": "execute_result"
    }
   ],
   "source": [
    "# Answer\n",
    "\n",
    "d_product['review']['avg_rating'] = 2.5\n",
    "d_product['review']['no_review'] = 12000\n",
    "\n",
    "d_product"
   ]
  },
  {
   "cell_type": "markdown",
   "id": "0f1e614d-9964-4a77-80dc-e4f3246f58f2",
   "metadata": {},
   "source": [
    "5. Retrieve the reviewer's rating in Q2."
   ]
  },
  {
   "cell_type": "code",
   "execution_count": 43,
   "id": "5915da75",
   "metadata": {},
   "outputs": [
    {
     "data": {
      "text/plain": [
       "5"
      ]
     },
     "execution_count": 43,
     "metadata": {},
     "output_type": "execute_result"
    }
   ],
   "source": [
    "# Answer\n",
    "\n",
    "d_review['review_rating']\n",
    "\n"
   ]
  },
  {
   "cell_type": "markdown",
   "id": "22407ee6",
   "metadata": {},
   "source": [
    "* Short Questions"
   ]
  },
  {
   "cell_type": "markdown",
   "id": "cd1c64b3-0b9f-4aee-911a-9de61c8f496c",
   "metadata": {},
   "source": [
    "6. Using only indexing/slicing, print Livie's grade on exam2"
   ]
  },
  {
   "cell_type": "code",
   "execution_count": 56,
   "id": "6b3a094e",
   "metadata": {},
   "outputs": [],
   "source": [
    "exam_score = {\"class\": \"MIS325-03\", \"student\": {\"name\": \"Livie\", \"grades\": {\"exam1\": 70, \"exam2\": 80}}}"
   ]
  },
  {
   "cell_type": "code",
   "execution_count": 59,
   "id": "99cb195e",
   "metadata": {},
   "outputs": [
    {
     "data": {
      "text/plain": [
       "80"
      ]
     },
     "execution_count": 59,
     "metadata": {},
     "output_type": "execute_result"
    }
   ],
   "source": [
    "# Answer\n",
    "exam_score[\"student\"][\"grades\"]['exam2']\n",
    "\n",
    "\n"
   ]
  },
  {
   "cell_type": "markdown",
   "id": "77fc23d5-e71f-47cb-a672-902b37034838",
   "metadata": {},
   "source": [
    "7. Katie Hard added one more email: khart@outlook.com<br>\n",
    "    Modify the dictionary, accordingly."
   ]
  },
  {
   "cell_type": "code",
   "execution_count": 61,
   "id": "49582255",
   "metadata": {},
   "outputs": [],
   "source": [
    "d_katie = {\n",
    "         'name': 'Katie Hart', \n",
    "          'email': ['k.hart@wsu.edu', 'katie@gmail.com'], \n",
    "          'phone_number': 5820202912\n",
    "         }"
   ]
  },
  {
   "cell_type": "code",
   "execution_count": 63,
   "id": "37caac35",
   "metadata": {},
   "outputs": [
    {
     "data": {
      "text/plain": [
       "{'name': 'Katie Hart',\n",
       " 'email': ['k.hart@wsu.edu',\n",
       "  'katie@gmail.com',\n",
       "  'khart@outlook.com',\n",
       "  'khart@outlook.com'],\n",
       " 'phone_number': 5820202912}"
      ]
     },
     "execution_count": 63,
     "metadata": {},
     "output_type": "execute_result"
    }
   ],
   "source": [
    "\n",
    "d_katie['email'].append('khart@outlook.com')\n",
    "\n",
    "d_katie"
   ]
  },
  {
   "cell_type": "markdown",
   "id": "f4735488-0e68-48ac-903e-9d1129925a17",
   "metadata": {},
   "source": [
    "8. print 'a' in every possible way<br>\n",
    "    Make sure to use print() function in each line to print multiple lines of code.<br>\n",
    "    If you don't use print in each line and just run multiple lines of indexing codes at one, only the last line will be printed."
   ]
  },
  {
   "cell_type": "code",
   "execution_count": 65,
   "id": "b9c0e269",
   "metadata": {},
   "outputs": [],
   "source": [
    "li_1 = [1, \n",
    "        {1: 'a'},\n",
    "        {'1':'a'}, \n",
    "        'a', \n",
    "        ['a',2]]"
   ]
  },
  {
   "cell_type": "code",
   "execution_count": 66,
   "id": "a5ea8525",
   "metadata": {},
   "outputs": [
    {
     "data": {
      "text/plain": [
       "'a'"
      ]
     },
     "execution_count": 66,
     "metadata": {},
     "output_type": "execute_result"
    }
   ],
   "source": [
    "li_1[0]\n"
   ]
  },
  {
   "cell_type": "code",
   "execution_count": 67,
   "id": "9590e433",
   "metadata": {},
   "outputs": [
    {
     "data": {
      "text/plain": [
       "'a'"
      ]
     },
     "execution_count": 67,
     "metadata": {},
     "output_type": "execute_result"
    }
   ],
   "source": [
    "li_1[1][1]"
   ]
  },
  {
   "cell_type": "code",
   "execution_count": 68,
   "id": "c54acce2",
   "metadata": {},
   "outputs": [
    {
     "data": {
      "text/plain": [
       "'a'"
      ]
     },
     "execution_count": 68,
     "metadata": {},
     "output_type": "execute_result"
    }
   ],
   "source": [
    "li_1[2]['1']"
   ]
  },
  {
   "cell_type": "code",
   "execution_count": 69,
   "id": "d49b648f",
   "metadata": {},
   "outputs": [
    {
     "data": {
      "text/plain": [
       "'a'"
      ]
     },
     "execution_count": 69,
     "metadata": {},
     "output_type": "execute_result"
    }
   ],
   "source": [
    "li_1[3]"
   ]
  },
  {
   "cell_type": "code",
   "execution_count": 70,
   "id": "3d625d33",
   "metadata": {},
   "outputs": [
    {
     "data": {
      "text/plain": [
       "'a'"
      ]
     },
     "execution_count": 70,
     "metadata": {},
     "output_type": "execute_result"
    }
   ],
   "source": [
    "li_1[4][0]"
   ]
  },
  {
   "cell_type": "code",
   "execution_count": null,
   "id": "3c903b00",
   "metadata": {},
   "outputs": [],
   "source": []
  }
 ],
 "metadata": {
  "kernelspec": {
   "display_name": "Python 3 (ipykernel)",
   "language": "python",
   "name": "python3"
  },
  "language_info": {
   "codemirror_mode": {
    "name": "ipython",
    "version": 3
   },
   "file_extension": ".py",
   "mimetype": "text/x-python",
   "name": "python",
   "nbconvert_exporter": "python",
   "pygments_lexer": "ipython3",
   "version": "3.11.5"
  }
 },
 "nbformat": 4,
 "nbformat_minor": 5
}
