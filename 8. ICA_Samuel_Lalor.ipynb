{
 "cells": [
  {
   "cell_type": "markdown",
   "id": "b31eb5ec-7aec-4d52-a99f-3349b1a4efc2",
   "metadata": {},
   "source": [
    "1. (1) Write a function that converts Miles to Kilometers.<br>\n",
    "    The function's parameter is Miles. (name the parameter whatever you like)<br>\n",
    "    The function prints Kilometers.<br>\n",
    "    Kilometers = Miles / 0.6214\n",
    "\n",
    "    After defining the function, call it with any mile as an argument."
   ]
  },
  {
   "cell_type": "code",
   "execution_count": 10,
   "id": "66f25c60",
   "metadata": {},
   "outputs": [],
   "source": [
    "# Answer\n",
    "\n",
    "def mile_to_km(mile):\n",
    "    km = mile/0.6214\n",
    "    print(km)"
   ]
  },
  {
   "cell_type": "code",
   "execution_count": 11,
   "id": "4208545d",
   "metadata": {},
   "outputs": [
    {
     "name": "stdout",
     "output_type": "stream",
     "text": [
      "16.0926939169617\n"
     ]
    }
   ],
   "source": [
    "km_10 = mile_to_km(10)"
   ]
  },
  {
   "cell_type": "markdown",
   "id": "b1cda3c8-8796-43f2-8896-22c82c362656",
   "metadata": {},
   "source": [
    "1. (2) Modify the function you defined in Q1-1.<br>\n",
    "    Now, the function has a default parameter for Miles, which is 60.<br>\n",
    "    Finally, call the function without any argument. What happens?"
   ]
  },
  {
   "cell_type": "code",
   "execution_count": 12,
   "id": "0d7f9eb4-cfbd-4fd6-9406-fd5032063698",
   "metadata": {},
   "outputs": [
    {
     "name": "stdout",
     "output_type": "stream",
     "text": [
      "96.5561635017702\n"
     ]
    }
   ],
   "source": [
    "# Answer\n",
    "\n",
    "def mile_to_km(mile = 60):\n",
    "    km = mile/0.6214\n",
    "    print(km)\n",
    "mile_to_km()"
   ]
  },
  {
   "cell_type": "markdown",
   "id": "a974b1a1-4774-46fe-b011-4ed5ea227e94",
   "metadata": {},
   "source": [
    "2. The following is a program that asks students to enter their total credits.<br>\n",
    "    if credits < 120, the program prints \"Sorry, you are not eligible to apply for graduation.\"<br>\n",
    "    Otherwise, it prints \"Yay! You're eligible to apply for graduation.\"<br>"
   ]
  },
  {
   "cell_type": "code",
   "execution_count": 13,
   "id": "c81c5bcc",
   "metadata": {},
   "outputs": [
    {
     "name": "stdout",
     "output_type": "stream",
     "text": [
      "What are your total credits?: 80\n",
      "Sorry, you are not eligible to apply for graduation\n"
     ]
    }
   ],
   "source": [
    "credits = input(\"What are your total credits?: \")\n",
    "\n",
    "if int(credits) < 120:\n",
    "    print(\"Sorry, you are not eligible to apply for graduation\")\n",
    "else:\n",
    "    print(\"Yay! You're eligible to apply for graduation\")"
   ]
  },
  {
   "cell_type": "markdown",
   "id": "e82b4de0-bea5-4021-a47f-00155bd9e767",
   "metadata": {},
   "source": [
    "2. (1) Put the code above in a function called checkCredits().<br>\n",
    "    When this function is called, a user will get prompted for credit.<br>\n",
    "    Then, the function will tell them if they are eligible for graduation application.<br>\n",
    "    Finally, call this function and find if it works as intended."
   ]
  },
  {
   "cell_type": "code",
   "execution_count": 24,
   "id": "216ee3ae",
   "metadata": {},
   "outputs": [
    {
     "name": "stdout",
     "output_type": "stream",
     "text": [
      "What are your total credits?: 110\n",
      "Sorry, you are not eligible to apply for graduation\n"
     ]
    }
   ],
   "source": [
    "# Answer\n",
    "\n",
    "def checkCredits():\n",
    "    credits = input(\"What are your total credits?: \")\n",
    "    if int(credits) < 120:\n",
    "        print(\"Sorry, you are not eligible to apply for graduation\")\n",
    "    else:\n",
    "        print(\"Yay! You're eligible to apply for graduation\")\n",
    "checkCredits()"
   ]
  },
  {
   "cell_type": "markdown",
   "id": "771f65f4-6822-4c74-98c7-6ac0b6b4cfd2",
   "metadata": {},
   "source": [
    "2. (2) Remove input() and make the checkCredits() function accept credits as an argument<br>\n",
    "   so that, for example, if you call the function and pass 101 to an argument (i.e., checkCredits(101) ), <br>\n",
    "    it returns \"Sorry, you are not eligible to apply for graduation\"<br>\n",
    "    In addition, set a default parameter (credits = 0).<br>\n",
    "    Finally, call and test your function!"
   ]
  },
  {
   "cell_type": "code",
   "execution_count": 29,
   "id": "f19fb757",
   "metadata": {},
   "outputs": [
    {
     "name": "stdout",
     "output_type": "stream",
     "text": [
      "Yay! You're eligible to apply for graduation\n"
     ]
    }
   ],
   "source": [
    "# Answer\n",
    "\n",
    "def checkCredits(credits = 0):\n",
    "    if int(credits) < 120:\n",
    "        print('Sorry, you are not eligible to apply for graduation')\n",
    "    else:\n",
    "        print(\"Yay! You're eligible to apply for graduation\")\n",
    "checkCredits(121)\n"
   ]
  },
  {
   "cell_type": "markdown",
   "id": "70b7c1a5-5e95-4c83-a51c-0172ec7ede7e",
   "metadata": {},
   "source": [
    "3. (1) Define a function that receives a \"list\" containing multiple numbers.<br>\n",
    "    Then, the function should return the average of the numbers.<br>\n",
    "    You may use for-loop or sum() to compute the sum of the numbers.<br>\n",
    "    Then, divide the sum by the number of the numbers using len() function."
   ]
  },
  {
   "cell_type": "code",
   "execution_count": 46,
   "id": "dcc007f6",
   "metadata": {},
   "outputs": [
    {
     "data": {
      "text/plain": [
       "5.5"
      ]
     },
     "execution_count": 46,
     "metadata": {},
     "output_type": "execute_result"
    }
   ],
   "source": [
    "#answer 1\n",
    "numbers=[1,2,3,4,5,6,7,8,9,10]\n",
    "def avg(li):\n",
    "    total = sum(li)\n",
    "    number = len(li)\n",
    "    average = total / number\n",
    "    return average\n",
    "avg(numbers)"
   ]
  },
  {
   "cell_type": "code",
   "execution_count": 47,
   "id": "3212ba84",
   "metadata": {},
   "outputs": [
    {
     "data": {
      "text/plain": [
       "5.5"
      ]
     },
     "execution_count": 47,
     "metadata": {},
     "output_type": "execute_result"
    }
   ],
   "source": [
    "#answer 1-1\n",
    "def avg(li):\n",
    "    return sum(li)/len(li)\n",
    "avg(numbers)\n"
   ]
  },
  {
   "cell_type": "code",
   "execution_count": 49,
   "id": "297ee158",
   "metadata": {},
   "outputs": [
    {
     "data": {
      "text/plain": [
       "5.5"
      ]
     },
     "execution_count": 49,
     "metadata": {},
     "output_type": "execute_result"
    }
   ],
   "source": [
    "#answer 2\n",
    "def avg(li):\n",
    "    total = 0\n",
    "    for i in li:\n",
    "        total += i\n",
    "    number = len(li)\n",
    "    average = total / number\n",
    "    return average\\\n",
    "\n",
    "avg(numbers)"
   ]
  },
  {
   "cell_type": "markdown",
   "id": "64a6d64d-5b28-49c5-87bb-aefd3901a99c",
   "metadata": {},
   "source": [
    "3. (2) Change the parameter in the function of Q3-1<br>\n",
    "    Instead of list, use *args as a parameter so that the function allows a user to enter numbers that are separated by commas. ."
   ]
  },
  {
   "cell_type": "code",
   "execution_count": 42,
   "id": "6da84c02-13c0-4747-9a99-161b16155822",
   "metadata": {},
   "outputs": [
    {
     "data": {
      "text/plain": [
       "5.5"
      ]
     },
     "execution_count": 42,
     "metadata": {},
     "output_type": "execute_result"
    }
   ],
   "source": [
    "# Answer\n",
    "def average(*num):\n",
    "    total = sum(num)\n",
    "    number = len(num)\n",
    "    average = total / number\n",
    "    return average\n",
    "\n",
    "average(1,2,3,4,5,6,7,8,9,10)"
   ]
  },
  {
   "cell_type": "markdown",
   "id": "8b247fc1-d641-43f7-9e0d-1f48a0d4e829",
   "metadata": {},
   "source": [
    "3. (3) Call your function defined in Q3-2.<br>\n",
    "    Assign the return of the function to a variable; and print that the average of the numbers is {variable}."
   ]
  },
  {
   "cell_type": "code",
   "execution_count": 65,
   "id": "f27291b1-5001-41fa-82b6-a53806b697c0",
   "metadata": {},
   "outputs": [
    {
     "name": "stdout",
     "output_type": "stream",
     "text": [
      "average is 5.5\n"
     ]
    }
   ],
   "source": [
    "# Answer \n",
    "\n",
    "avg = average(1,2,3,4,5,6,7,8,9,10)\n",
    "print(f'average is {avg}')"
   ]
  },
  {
   "cell_type": "markdown",
   "id": "0bc658e1-36e5-436a-8f06-2ba66f33f2ed",
   "metadata": {},
   "source": [
    "4. Define a function that receives a dictionary as a parameter.<br>\n",
    "    Then, the function returns the values of the dictionary in list form.<br>\n",
    "    If {'a':1, 'b': 2, 'c': 3} is passed to the argument, [1,2,3] should be returned.<br>\n",
    "    Note: list({'a':1, 'b': 2, 'c': 3}.values()) will just give you the list of values.<br>\n",
    "    But forget this now and you are improvising with your custom function."
   ]
  },
  {
   "cell_type": "code",
   "execution_count": null,
   "id": "a36cec34-ee60-46f1-b694-f16fddd4f239",
   "metadata": {},
   "outputs": [],
   "source": [
    "# Use this code in defining a function\n",
    "li_val = []\n",
    "for key in d:\n",
    "    li_val.append(d[key]) # append the value of a key in d to li_val"
   ]
  },
  {
   "cell_type": "code",
   "execution_count": null,
   "id": "7b9d1ecc-432e-4532-84c2-b02408f57182",
   "metadata": {},
   "outputs": [],
   "source": [
    "# Answer\n",
    "\n",
    "\n"
   ]
  },
  {
   "cell_type": "markdown",
   "id": "2f7bfa3e-5fb1-40c4-9cab-e1a3d5433fd0",
   "metadata": {},
   "source": [
    "5. Below is the morse code question and answer in previous ICA.<br>\n",
    "    Using morse_dict, create a program that asks users to enter any information,<br>\n",
    "    , convert it to Morse code, and print it.<br>\n",
    "\n",
    "    Note:\n",
    "    Be mindful of lower/uppercase.<br>\n",
    "    If a part of the entered information is not in the dictionary, leave it as is. "
   ]
  },
  {
   "cell_type": "code",
   "execution_count": 57,
   "id": "b4e2ffb9-2016-4153-bb4c-022f02c578d6",
   "metadata": {},
   "outputs": [],
   "source": [
    "morse_dict = { 'A':'.-', 'B':'-...',\n",
    "                    'C':'-.-.', 'D':'-..', 'E':'.',\n",
    "                    'F':'..-.', 'G':'--.', 'H':'....',\n",
    "                    'I':'..', 'J':'.---', 'K':'-.-',\n",
    "                    'L':'.-..', 'M':'--', 'N':'-.',\n",
    "                    'O':'---', 'P':'.--.', 'Q':'--.-',\n",
    "                    'R':'.-.', 'S':'...', 'T':'-',\n",
    "                    'U':'..-', 'V':'...-', 'W':'.--',\n",
    "                    'X':'-..-', 'Y':'-.--', 'Z':'--..',\n",
    "                    '1':'.----', '2':'..---', '3':'...--',\n",
    "                    '4':'....-', '5':'.....', '6':'-....',\n",
    "                    '7':'--...', '8':'---..', '9':'----.',\n",
    "                    '0':'-----', ', ':'--..--', '.':'.-.-.-',\n",
    "                    '?':'..--..', '/':'-..-.', '-':'-....-',\n",
    "                    '(':'-.--.', ')':'-.--.-'}"
   ]
  },
  {
   "cell_type": "code",
   "execution_count": 51,
   "id": "efbc9c3d-8f28-4241-8f1b-7c2879538cf2",
   "metadata": {},
   "outputs": [
    {
     "name": "stdout",
     "output_type": "stream",
     "text": [
      "Enter any dataacbd\n",
      ".--.-.-...-..\n"
     ]
    }
   ],
   "source": [
    "morse_code = ''\n",
    "enter = input(\"Enter any data\")\n",
    "\n",
    "for i in enter:\n",
    "    i = i.upper() # make the letter uppercase if i is an alphabetical character\n",
    "        \n",
    "    if i in morse_dict:\n",
    "        morse_code += morse_dict[i] # retrieve the morse code corresponds to a character\n",
    "    else:\n",
    "        morse_code += i\n",
    "print(morse_code)"
   ]
  },
  {
   "cell_type": "markdown",
   "id": "44af82e3-57fb-4487-b32e-22049b3b90ec",
   "metadata": {},
   "source": [
    "5. (1) Create a function, find_morse.<br>\n",
    "    The function receives two parameters, each of which is dictionary and string.<br>\n",
    "    Then, the function finds if the string is one of the keys in the dictionary and if so, returns its corresponding value.<br>\n",
    "    Also consider what you should do when the string is not a key"
   ]
  },
  {
   "cell_type": "code",
   "execution_count": 62,
   "id": "32a446b0-00a6-485e-bf2e-d57fd9eafbb6",
   "metadata": {},
   "outputs": [],
   "source": [
    "# Answer\n",
    "def find_morse(dct, k):\n",
    "    if k in dct:\n",
    "        return dct[k]\n",
    "    else:\n",
    "        return k\n"
   ]
  },
  {
   "cell_type": "code",
   "execution_count": 64,
   "id": "a0edd720",
   "metadata": {},
   "outputs": [
    {
     "name": "stdout",
     "output_type": "stream",
     "text": [
      "Enter any dataabsgd\n",
      ".--......--.-..\n"
     ]
    }
   ],
   "source": [
    "morse_code = ''\n",
    "enter = input(\"Enter any data\")\n",
    "\n",
    "for i in enter:\n",
    "    i = i.upper() # make the letter uppercase if i is an alphabetical character   \n",
    "    morse_code += morse_dict[i] # retrieve the morse code corresponds to a character\n",
    "   \n",
    "print(morse_code)"
   ]
  },
  {
   "cell_type": "markdown",
   "id": "af6c46b0-3612-40f0-b2c3-94746d0dbec2",
   "metadata": {},
   "source": [
    "5. (2) Modify the for-loop above and plug in the functions you defined in 5-1."
   ]
  },
  {
   "cell_type": "code",
   "execution_count": null,
   "id": "35234171-4718-49e6-aadc-e1014149c8fe",
   "metadata": {},
   "outputs": [],
   "source": [
    "# Answer\n",
    "for i in enter:\n",
    "    i = i.upper()\n",
    "    morse_code += find_morse(morse_dict, i)\n",
    "print(morse_code)\n",
    "\n"
   ]
  }
 ],
 "metadata": {
  "kernelspec": {
   "display_name": "Python 3 (ipykernel)",
   "language": "python",
   "name": "python3"
  },
  "language_info": {
   "codemirror_mode": {
    "name": "ipython",
    "version": 3
   },
   "file_extension": ".py",
   "mimetype": "text/x-python",
   "name": "python",
   "nbconvert_exporter": "python",
   "pygments_lexer": "ipython3",
   "version": "3.11.5"
  },
  "varInspector": {
   "cols": {
    "lenName": 16,
    "lenType": 16,
    "lenVar": 40
   },
   "kernels_config": {
    "python": {
     "delete_cmd_postfix": "",
     "delete_cmd_prefix": "del ",
     "library": "var_list.py",
     "varRefreshCmd": "print(var_dic_list())"
    },
    "r": {
     "delete_cmd_postfix": ") ",
     "delete_cmd_prefix": "rm(",
     "library": "var_list.r",
     "varRefreshCmd": "cat(var_dic_list()) "
    }
   },
   "types_to_exclude": [
    "module",
    "function",
    "builtin_function_or_method",
    "instance",
    "_Feature"
   ],
   "window_display": false
  }
 },
 "nbformat": 4,
 "nbformat_minor": 5
}
