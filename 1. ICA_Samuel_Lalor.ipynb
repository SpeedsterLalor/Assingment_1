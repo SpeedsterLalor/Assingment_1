{
 "cells": [
  {
   "cell_type": "markdown",
   "id": "fb2d2aa4-c830-4961-a4a8-c7b6e896fd5b",
   "metadata": {},
   "source": [
    "1-1. Assign a number, 100, to a variable, var_int"
   ]
  },
  {
   "cell_type": "code",
   "execution_count": 1,
   "id": "46678393",
   "metadata": {},
   "outputs": [],
   "source": [
    "# Answer\n",
    "\n",
    "var_int = 100"
   ]
  },
  {
   "cell_type": "markdown",
   "id": "68ba91aa-f1cf-4e25-ab34-41668d27e0f4",
   "metadata": {},
   "source": [
    "1-2. Apply type() function to the var_int and print it. What is the result? "
   ]
  },
  {
   "cell_type": "code",
   "execution_count": 4,
   "id": "f8e32b9f-d819-40de-9488-1eacd477ca9f",
   "metadata": {},
   "outputs": [
    {
     "name": "stdout",
     "output_type": "stream",
     "text": [
      "<class 'int'>\n"
     ]
    }
   ],
   "source": [
    "# Answer\n",
    "\n",
    "var_int = 100\n",
    "\n",
    "print(type(var_int))\n"
   ]
  },
  {
   "cell_type": "markdown",
   "id": "7d51b60e-dfdb-47a8-8c96-3ed1a7b25b28",
   "metadata": {},
   "source": [
    "2-1. Assign value, this is a string, to a variable, var_str"
   ]
  },
  {
   "cell_type": "code",
   "execution_count": 3,
   "id": "d59fda7a",
   "metadata": {},
   "outputs": [],
   "source": [
    "# Answer\n",
    "\n",
    "var_str = 'value'\n"
   ]
  },
  {
   "cell_type": "markdown",
   "id": "4ca29bdc-143e-4f99-ae94-9009252c656b",
   "metadata": {},
   "source": [
    "2-2. As in 1-2, apply type() function to the var_str and print it. What is the result?"
   ]
  },
  {
   "cell_type": "code",
   "execution_count": 5,
   "id": "ff408c90-da55-4c7b-8792-d2e553b3f77f",
   "metadata": {},
   "outputs": [
    {
     "name": "stdout",
     "output_type": "stream",
     "text": [
      "<class 'str'>\n"
     ]
    }
   ],
   "source": [
    "# Answer\n",
    "var_str = 'value'\n",
    "\n",
    "print(type(var_str))"
   ]
  },
  {
   "cell_type": "markdown",
   "id": "86ac920a-56e3-4d42-9747-ab04fd253b4e",
   "metadata": {},
   "source": [
    "3-1. Assign value, Wazzu, to a variable (name it whatever you want)<br>\n",
    "Note: Wazzu is a string. "
   ]
  },
  {
   "cell_type": "code",
   "execution_count": 8,
   "id": "056a4d53-84e1-4328-b626-0b35313e07d3",
   "metadata": {},
   "outputs": [],
   "source": [
    "# Answer\n",
    "\n",
    "goCougs = 'Wazzu'"
   ]
  },
  {
   "cell_type": "markdown",
   "id": "88cd572b-7c29-43e1-abbf-e98e8ad01c34",
   "metadata": {},
   "source": [
    "3-2. print the variable you defined in 3-1."
   ]
  },
  {
   "cell_type": "code",
   "execution_count": 9,
   "id": "e303c01d-ad04-4647-b53c-9fdd0f3dc600",
   "metadata": {},
   "outputs": [
    {
     "name": "stdout",
     "output_type": "stream",
     "text": [
      "Wazzu\n"
     ]
    }
   ],
   "source": [
    "# Answer\n",
    "\n",
    "goCougs = 'Wazzu'\n",
    "\n",
    "print(goCougs)"
   ]
  },
  {
   "cell_type": "markdown",
   "id": "83fd8fd7-3a16-4a73-a84c-02eaf694ea8a",
   "metadata": {},
   "source": [
    "3-3. print the value, Wazzu, itself instead."
   ]
  },
  {
   "cell_type": "code",
   "execution_count": 10,
   "id": "7fa15adb-31b5-4d7f-952b-63b6a2148baf",
   "metadata": {},
   "outputs": [
    {
     "name": "stdout",
     "output_type": "stream",
     "text": [
      "Wazzu\n"
     ]
    }
   ],
   "source": [
    "# Answer\n",
    "print('Wazzu')"
   ]
  },
  {
   "cell_type": "markdown",
   "id": "1a98f288-194a-4abc-a48d-03a877a9aaf2",
   "metadata": {},
   "source": [
    "4. Write a program that prompts users to provide their birth year.<br>\n",
    "Then, it assigns the birth year input to a variable b_year.<br>\n",
    "Finally, it prints that your birth year is b_year.<br>\n",
    "Note: if you have time, print it in three ways."
   ]
  },
  {
   "cell_type": "code",
   "execution_count": 5,
   "id": "44aa4caf-b254-461e-9b9f-91d32cbc5404",
   "metadata": {
    "slideshow": {
     "slide_type": "slide"
    }
   },
   "outputs": [
    {
     "name": "stdout",
     "output_type": "stream",
     "text": [
      "What is your birth year?: 01/22\n",
      "\n",
      "Your birthday is 01/22!\n",
      "Your birthday is 01/22!\n",
      "Your birthday is 01/22\n",
      "Your birthday is  01/22\n"
     ]
    }
   ],
   "source": [
    "# Answer\n",
    "\n",
    "birthyear = input('What is your birth year?: ')\n",
    "\n",
    "b_year = birthyear\n",
    "\n",
    "print(f'\\nYour birthday is {b_year}!')\n",
    "\n",
    "print('Your birthday is {}!'.format(b_year))\n",
    "\n",
    "print('Your birthday is '+ b_year)\n",
    "\n",
    "print('Your birthday is ',b_year)"
   ]
  },
  {
   "cell_type": "markdown",
   "id": "de80a76d-f294-4399-87c9-7778adba8cae",
   "metadata": {},
   "source": [
    "5. Assign Apple's stock price (186) to a variable.<br>\n",
    "Then, assign any number of Apple stock you want to have to a variable.<br>\n",
    "Compute your total asset and print the following: Your total asset is _______.<br>\n",
    "(Note: put the total asset in the blank; do not type the number. use variable and functionality of print)"
   ]
  },
  {
   "cell_type": "code",
   "execution_count": 6,
   "id": "6628f951-db8b-4198-a677-cafe9aef3d57",
   "metadata": {},
   "outputs": [
    {
     "name": "stdout",
     "output_type": "stream",
     "text": [
      "How many stocks would you like?: 160000\n",
      "\n",
      "Your total asset is $29760000.\n"
     ]
    }
   ],
   "source": [
    "# Answer\n",
    "price = 186\n",
    "num_stock = int(input(\"How many stocks would you like?: \"))\n",
    "total_value = price * num_stock\n",
    "\n",
    "print(f\"\\nYour total asset is ${total_value}.\")"
   ]
  },
  {
   "cell_type": "markdown",
   "id": "4aa408d7-c618-42e5-bc19-063ed7d0a82b",
   "metadata": {},
   "source": [
    "6. Write a program that prompts the user for and then displays the following information:<br>\n",
    "     Your name<br>\n",
    "     Your telephone number<br>\n",
    "     Your college major<br>"
   ]
  },
  {
   "cell_type": "code",
   "execution_count": 28,
   "id": "6057d2c9",
   "metadata": {
    "slideshow": {
     "slide_type": "-"
    }
   },
   "outputs": [
    {
     "name": "stdout",
     "output_type": "stream",
     "text": [
      "What is your name?: Sam\n",
      "What is your phone number? ex: 111-111-1111: 123-1234-12243\n",
      "What major are you studying?: MIS\n",
      "\n",
      "Name ------------------ Sam\n",
      "Phone number ----------- 123-1234-12243\n",
      "Your Major is ---------- MIS\n"
     ]
    }
   ],
   "source": [
    "# Answer\n",
    "\n",
    "name = input('What is your name?: ')\n",
    "phone_nmbr = input('What is your phone number? ex: 111-111-1111: ')\n",
    "major = input('What major are you studying?: ')\n",
    "\n",
    "print(f'\\nName ------------------ {name}')\n",
    "print(f'Phone number --------- {phone_nmbr}')\n",
    "print(f'Your Major ------------ {major}')"
   ]
  },
  {
   "cell_type": "markdown",
   "id": "e326ab06-dfba-4010-979f-5e1476ee4e6c",
   "metadata": {},
   "source": [
    "7. A company has determined that its annual profit is typically 23 percent of total sales.<br>\n",
    "Write a program that asks the user to enter the projected amount of total sales <br>\n",
    "then displays the profit that will be made from that amount.<br>\n",
    "\n",
    "Hint: Use the value 0.23 to represent 23 percent.<br>\n",
    "Note: Do not input a floating point number."
   ]
  },
  {
   "cell_type": "code",
   "execution_count": 21,
   "id": "3c80dd83",
   "metadata": {},
   "outputs": [
    {
     "name": "stdout",
     "output_type": "stream",
     "text": [
      "What is your total sales for the year?: 2000000\n",
      "\n",
      "Your total revenue for this year is: $460000.0.\n"
     ]
    }
   ],
   "source": [
    "# Answer\n",
    "\n",
    "total_sales = int(input('What is your total sales for the year?: '))\n",
    "sales = total_sales\n",
    "\n",
    "annual_rev = sales * 0.23\n",
    "\n",
    "print(f\"\\nYour total revenue for this year is: ${annual_rev}.\")"
   ]
  },
  {
   "cell_type": "markdown",
   "id": "b3a3b755-065b-47c2-aa64-df40205dc029",
   "metadata": {
    "slideshow": {
     "slide_type": "slide"
    }
   },
   "source": [
    "8. \n",
    "A customer in a store is purchasing three items.<br>\n",
    "Write a program that asks for the price of each item,<br>\n",
    "then displays the subtotal of the sale, the amount of sales tax, and the total. Assume the sales tax is 7 percent."
   ]
  },
  {
   "cell_type": "code",
   "execution_count": 44,
   "id": "59cc9055-06d0-42c6-b84b-e2c131b3884a",
   "metadata": {},
   "outputs": [
    {
     "name": "stdout",
     "output_type": "stream",
     "text": [
      "What is the price of item 1?: $2.49\n",
      "What is the price of item 2?: $3.4\n",
      "What is the price of item 3?: $7.80\n",
      "\n",
      "------------- Reciept ------------\n",
      "Subtotal ----------------- $13.69\n",
      "Tax ------------- $0.96\n",
      "Total -------------------- $14.65\n"
     ]
    }
   ],
   "source": [
    "# Answer\n",
    "\n",
    "subtotal = 0\n",
    "\n",
    "for i in range(1,4):\n",
    "    item_price = float(input(f'What is the price of item {i}?: $'))\n",
    "    subtotal += item_price\n",
    "    \n",
    "total_tax = subtotal * 0.07\n",
    "\n",
    "total = subtotal + total_tax\n",
    "\n",
    "print('\\n------------- Reciept ------------')\n",
    "print(f'Subtotal ----------------- ${subtotal:.2f}')\n",
    "print(f'Tax ------------- ${total_tax:.2f}')\n",
    "print(f'Total -------------------- ${total:.2f}')"
   ]
  },
  {
   "cell_type": "markdown",
   "id": "968a17b7-8c56-41ab-9a9d-95141d6198dc",
   "metadata": {
    "slideshow": {
     "slide_type": "slide"
    }
   },
   "source": [
    "9. \n",
    "Miles-per-gallon (MPG) of a car can be calculated with the following formula:<br>\n",
    "\n",
    "    MPG=MilesDriven/GallonsOfGasUsed\n",
    "\n",
    "Write a program that asks the user for the number of miles driven and the gallons of gas used. \n",
    "It should calculate MPG of their and display the result."
   ]
  },
  {
   "cell_type": "code",
   "execution_count": 39,
   "id": "356e6470-6663-44d0-8802-4e01a7772946",
   "metadata": {},
   "outputs": [
    {
     "name": "stdout",
     "output_type": "stream",
     "text": [
      "How many miles have you driven?: 240\n",
      "How many gallons have you used?: 9\n",
      "You got 26.67 mpg on your last trip.\n"
     ]
    }
   ],
   "source": [
    "# Answer\n",
    "\n",
    "num_miles = int(input('How many miles have you driven?: '))\n",
    "num_gals = int(input('How many gallons have you used?: '))\n",
    "\n",
    "mpg = num_miles / num_gals\n",
    "\n",
    "print(f'\\nYou got {mpg:.2f} mpg on your last trip.')\n"
   ]
  },
  {
   "cell_type": "code",
   "execution_count": null,
   "id": "a400e703",
   "metadata": {},
   "outputs": [],
   "source": []
  }
 ],
 "metadata": {
  "celltoolbar": "Slideshow",
  "kernelspec": {
   "display_name": "Python 3 (ipykernel)",
   "language": "python",
   "name": "python3"
  },
  "language_info": {
   "codemirror_mode": {
    "name": "ipython",
    "version": 3
   },
   "file_extension": ".py",
   "mimetype": "text/x-python",
   "name": "python",
   "nbconvert_exporter": "python",
   "pygments_lexer": "ipython3",
   "version": "3.11.5"
  },
  "varInspector": {
   "cols": {
    "lenName": 16,
    "lenType": 16,
    "lenVar": 40
   },
   "kernels_config": {
    "python": {
     "delete_cmd_postfix": "",
     "delete_cmd_prefix": "del ",
     "library": "var_list.py",
     "varRefreshCmd": "print(var_dic_list())"
    },
    "r": {
     "delete_cmd_postfix": ") ",
     "delete_cmd_prefix": "rm(",
     "library": "var_list.r",
     "varRefreshCmd": "cat(var_dic_list()) "
    }
   },
   "types_to_exclude": [
    "module",
    "function",
    "builtin_function_or_method",
    "instance",
    "_Feature"
   ],
   "window_display": false
  }
 },
 "nbformat": 4,
 "nbformat_minor": 5
}
