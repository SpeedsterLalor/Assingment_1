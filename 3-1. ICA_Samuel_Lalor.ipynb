{
 "cells": [
  {
   "cell_type": "markdown",
   "id": "018df609-7ca6-4224-a4f9-af0165c89bce",
   "metadata": {},
   "source": [
    "1. (1) Create a list, movie1, that contain three different movies"
   ]
  },
  {
   "cell_type": "code",
   "execution_count": 11,
   "id": "27660faf-c0db-4991-ae46-36dd94fd61e1",
   "metadata": {},
   "outputs": [],
   "source": [
    "# Answer\n",
    "movie1 = ['Avengers', 'Hulk', 'Superman']"
   ]
  },
  {
   "cell_type": "markdown",
   "id": "860f4944-13c2-4d56-a4be-3c5f40468af7",
   "metadata": {},
   "source": [
    "1. (2) Using a list method (append), add one more movie to the list, movie1"
   ]
  },
  {
   "cell_type": "code",
   "execution_count": 12,
   "id": "85fb987a-b2f8-4798-80e6-ddd2c6f164cd",
   "metadata": {},
   "outputs": [],
   "source": [
    "# Answer\n",
    "\n",
    "movie1.append('Spongebob')"
   ]
  },
  {
   "cell_type": "markdown",
   "id": "3896ef2a-39df-491e-b1c5-db31619fee00",
   "metadata": {},
   "source": [
    "1. (3) Check if the list, movie1, now has four elements."
   ]
  },
  {
   "cell_type": "code",
   "execution_count": 13,
   "id": "3ec42ba5-9d25-41a8-a8cc-c80628c71c73",
   "metadata": {},
   "outputs": [
    {
     "data": {
      "text/plain": [
       "4"
      ]
     },
     "execution_count": 13,
     "metadata": {},
     "output_type": "execute_result"
    }
   ],
   "source": [
    "# Answer\n",
    "len(movie1)"
   ]
  },
  {
   "cell_type": "markdown",
   "id": "bb49e8d3-1805-488f-adb1-85650a0846c8",
   "metadata": {},
   "source": [
    "2. (1) Create another list, movie2, that contains two movies."
   ]
  },
  {
   "cell_type": "code",
   "execution_count": 14,
   "id": "4b778f73-a5c9-4221-8941-98a2969e0c0d",
   "metadata": {},
   "outputs": [],
   "source": [
    "# Answer\n",
    "movie2 = ['The Godfather', 'Top Gun']"
   ]
  },
  {
   "cell_type": "markdown",
   "id": "fc607088-99ce-4860-ae76-fed5985282fd",
   "metadata": {},
   "source": [
    "2. (2) Using a list method (extend), add each element in movie2 to movie1"
   ]
  },
  {
   "cell_type": "code",
   "execution_count": 15,
   "id": "aa12a2f0-a747-405e-a8ca-55b40a6ee158",
   "metadata": {},
   "outputs": [],
   "source": [
    "# Answer\n",
    "movie1.extend(movie2)"
   ]
  },
  {
   "cell_type": "markdown",
   "id": "091a353a-163c-4f20-a8a4-c37afd1cd3e7",
   "metadata": {},
   "source": [
    "2. (3) Check if the list, movie1, now has six elements"
   ]
  },
  {
   "cell_type": "code",
   "execution_count": 16,
   "id": "3995a0ef-8b41-4585-af42-c6afa2a33574",
   "metadata": {},
   "outputs": [
    {
     "data": {
      "text/plain": [
       "6"
      ]
     },
     "execution_count": 16,
     "metadata": {},
     "output_type": "execute_result"
    }
   ],
   "source": [
    "# Answer\n",
    "len(movie1)"
   ]
  },
  {
   "cell_type": "markdown",
   "id": "635dcbf7-9a1f-4ca4-a19c-41ec72747124",
   "metadata": {},
   "source": [
    "3. (1) Using a list method (remove), eliminate one of the movies in movie1"
   ]
  },
  {
   "cell_type": "code",
   "execution_count": 17,
   "id": "4786f1ca-3235-4f00-ae5c-043e6f9ea748",
   "metadata": {},
   "outputs": [],
   "source": [
    "# Answer\n",
    "movie1.remove('The Godfather')"
   ]
  },
  {
   "cell_type": "markdown",
   "id": "d4e1bc8b-bd4b-4a21-a1fe-8dcffc07855b",
   "metadata": {},
   "source": [
    "3. (2) Check if the list, movie1, now has five elements"
   ]
  },
  {
   "cell_type": "code",
   "execution_count": 18,
   "id": "fd96f710-1b05-453f-9c8f-6f334bdcfd40",
   "metadata": {},
   "outputs": [
    {
     "data": {
      "text/plain": [
       "5"
      ]
     },
     "execution_count": 18,
     "metadata": {},
     "output_type": "execute_result"
    }
   ],
   "source": [
    "# Answer\n",
    "len(movie1)"
   ]
  },
  {
   "cell_type": "markdown",
   "id": "42072b8b-bb55-400b-8b82-610b622049e5",
   "metadata": {},
   "source": [
    "4. (1) Using a list method (pop), eliminate the second movie in movie1"
   ]
  },
  {
   "cell_type": "code",
   "execution_count": 19,
   "id": "a9a36a98-67a7-4bce-984c-fd56e0a61d33",
   "metadata": {},
   "outputs": [
    {
     "data": {
      "text/plain": [
       "'Hulk'"
      ]
     },
     "execution_count": 19,
     "metadata": {},
     "output_type": "execute_result"
    }
   ],
   "source": [
    "# Answer\n",
    "movie1.pop(1)"
   ]
  },
  {
   "cell_type": "markdown",
   "id": "24dd12a0-a81a-466f-939e-d38d67ceca6a",
   "metadata": {},
   "source": [
    "4. (2) Check if the second movie was eliminated in movie1"
   ]
  },
  {
   "cell_type": "code",
   "execution_count": 20,
   "id": "ed45874a-fff2-46a5-be45-70938bdd8d04",
   "metadata": {},
   "outputs": [
    {
     "data": {
      "text/plain": [
       "4"
      ]
     },
     "execution_count": 20,
     "metadata": {},
     "output_type": "execute_result"
    }
   ],
   "source": [
    "# Answer\n",
    "len(movie1)"
   ]
  },
  {
   "cell_type": "markdown",
   "id": "a20bd30b-c31a-4217-ac78-c900f57133ba",
   "metadata": {},
   "source": [
    "5. Make the first element in movie1 uppercase<br>\n",
    "Hint: Use .upper() method"
   ]
  },
  {
   "cell_type": "code",
   "execution_count": 22,
   "id": "a3933495",
   "metadata": {},
   "outputs": [],
   "source": [
    "# Answer\n",
    "movie1 = movie1[0].upper()\n"
   ]
  },
  {
   "cell_type": "markdown",
   "id": "804347f5-1809-4838-b9bf-0e175ea3e1f3",
   "metadata": {},
   "source": [
    "6. Answer the following questions using li_comp"
   ]
  },
  {
   "cell_type": "code",
   "execution_count": 39,
   "id": "5312c091-2108-4283-af63-729b0b494c91",
   "metadata": {},
   "outputs": [],
   "source": [
    "li_comp = ['a', \n",
    "           'b', \n",
    "           ['c', 'd', ['e', 'f'], 'h', ['i']], \n",
    "           'j']"
   ]
  },
  {
   "cell_type": "markdown",
   "id": "28515bd6-cb4f-448a-aca0-5ce4378dd98d",
   "metadata": {},
   "source": [
    "6. (1) How many elements li_comp has?"
   ]
  },
  {
   "cell_type": "code",
   "execution_count": 24,
   "id": "70ef85a7-e1d7-4e5b-8c3b-540182ccccad",
   "metadata": {},
   "outputs": [
    {
     "data": {
      "text/plain": [
       "4"
      ]
     },
     "execution_count": 24,
     "metadata": {},
     "output_type": "execute_result"
    }
   ],
   "source": [
    "# Answer\n",
    "len(li_comp)"
   ]
  },
  {
   "cell_type": "code",
   "execution_count": 30,
   "id": "3abe5d38",
   "metadata": {},
   "outputs": [
    {
     "data": {
      "text/plain": [
       "['e', 'f']"
      ]
     },
     "execution_count": 30,
     "metadata": {},
     "output_type": "execute_result"
    }
   ],
   "source": [
    "li_comp[2][2]"
   ]
  },
  {
   "cell_type": "markdown",
   "id": "7abe9643-aa56-448e-a62e-f35f14100223",
   "metadata": {},
   "source": [
    "6. (2) Using index, flatten li_comp.<br>\n",
    "That is, index and retrieve each letter in li_comp and put them as an element in a new list like below.<br>\n",
    "\n",
    "    ['a', 'b', 'c', 'd', 'e', 'f', 'h', 'i', 'j']"
   ]
  },
  {
   "cell_type": "code",
   "execution_count": 34,
   "id": "d22e3109-5316-445c-a3a5-8c4638fe48b9",
   "metadata": {},
   "outputs": [
    {
     "data": {
      "text/plain": [
       "['a', 'b', 'c', 'd', 'e', 'f', 'h', 'i', 'j']"
      ]
     },
     "execution_count": 34,
     "metadata": {},
     "output_type": "execute_result"
    }
   ],
   "source": [
    "# each letter in the outcome list above should be retrieved from li_comp using index\n",
    "# Also, in square brackets, you can make a new line after comma (like below)\n",
    "# [element1, \n",
    "# element2]\n",
    "[\n",
    "    li_comp[0], li_comp[1], li_comp[2][0], li_comp[2][1], li_comp[2][2][0], li_comp[2][2][1], li_comp[2][3], li_comp[2][4][0], li_comp[3]\n",
    "    \n",
    "]"
   ]
  },
  {
   "cell_type": "markdown",
   "id": "9001a52f-1744-4c4d-a297-768d7ded8cb4",
   "metadata": {},
   "source": [
    "6. (3) Using a list method, append 'k' after 'f' so that li_comp becomes a list like below<br>\n",
    "['a', 'b', ['c', 'd', ['e', 'f', 'k'], 'h', ['i']], 'j']<br>\n",
    "\n",
    "    Also, check if you did it right with print(li_comp)"
   ]
  },
  {
   "cell_type": "code",
   "execution_count": 42,
   "id": "731f2dd8-2fb0-4151-9b45-8dbb2cec08c9",
   "metadata": {},
   "outputs": [
    {
     "name": "stdout",
     "output_type": "stream",
     "text": [
      "['a', 'b', ['c', 'd', ['e', 'f', 'k'], 'h', ['i']], 'j']\n"
     ]
    }
   ],
   "source": [
    "# Answer\n",
    "li_comp = ['a', \n",
    "           'b', \n",
    "           ['c', 'd', ['e', 'f'], 'h', ['i']], \n",
    "           'j']\n",
    "li_comp[2][2].append('k')\n",
    "\n",
    "print(li_comp)"
   ]
  },
  {
   "cell_type": "markdown",
   "id": "868f0107-d048-4df4-9b7c-0e5c7fe338da",
   "metadata": {},
   "source": [
    "6. (4) Eliminate ['i'] from li_comp<br>\n",
    "li_comp should become ['a', 'b', ['c', 'd', ['e', 'f'], 'h'], 'j'] after running your answer.\n",
    "\n",
    "    Note: ['i'] and 'i' are different<br>\n",
    "    'i' is simply a string<br>\n",
    "    ['i'] is a list that contains one element, 'i'."
   ]
  },
  {
   "cell_type": "code",
   "execution_count": 55,
   "id": "f62e992f-f439-4376-b042-557d421984b7",
   "metadata": {},
   "outputs": [],
   "source": [
    "# rerun this before answering the question\n",
    "li_comp = ['a', 'b', ['c', 'd', ['e', 'f'], 'h', ['i']], 'j']"
   ]
  },
  {
   "cell_type": "code",
   "execution_count": 59,
   "id": "dd84f5f0-73bc-4c97-82e8-c9b7a3cd995f",
   "metadata": {},
   "outputs": [
    {
     "name": "stdout",
     "output_type": "stream",
     "text": [
      "['a', 'b', ['c', 'd', ['e', 'f'], 'h'], 'j']\n"
     ]
    }
   ],
   "source": [
    "# Answer\n",
    "li_comp[2].remove(['i'])\n",
    "# li_comp.remove(['i'])\n",
    "\n",
    "print(li_comp)"
   ]
  },
  {
   "cell_type": "markdown",
   "id": "a79a65aa-623c-4b71-b4c3-f83d438d4e20",
   "metadata": {},
   "source": [
    "6. (5) Eliminate 'i' from li_comp<br>\n",
    "Also, check if it was actually removed by printing the list.<br>\n",
    "li_comp should become ['a', 'b', ['c', 'd', ['e', 'f'], 'h', []], 'j'] after running your answer"
   ]
  },
  {
   "cell_type": "code",
   "execution_count": 25,
   "id": "32b23964-5963-4150-8b6d-d5e834fd600f",
   "metadata": {},
   "outputs": [],
   "source": [
    "# rerun this before answering the question\n",
    "li_comp = ['a', 'b', ['c', 'd', ['e', 'f'], 'h', ['i']], 'j']"
   ]
  },
  {
   "cell_type": "code",
   "execution_count": 49,
   "id": "c3488acf-13f1-42a7-a14d-778ab925c3be",
   "metadata": {},
   "outputs": [
    {
     "name": "stdout",
     "output_type": "stream",
     "text": [
      "['a', 'b', ['c', 'd', ['e', 'f'], 'h', []], 'j']\n"
     ]
    }
   ],
   "source": [
    "# Answer\n",
    "del li_comp[2][4][0]\n",
    "\n",
    "print(li_comp)\n"
   ]
  },
  {
   "cell_type": "markdown",
   "id": "5f50191d-a816-41d2-b423-b2ffcc503d5d",
   "metadata": {},
   "source": [
    "7. (1) What is the average of the elements in the following list?"
   ]
  },
  {
   "cell_type": "code",
   "execution_count": 26,
   "id": "a192ec28-b147-42cd-8fbd-4639bda2ace2",
   "metadata": {},
   "outputs": [],
   "source": [
    "li_avg = [2,19,291,658,495,592,494]"
   ]
  },
  {
   "cell_type": "code",
   "execution_count": 27,
   "id": "2fb98bbb",
   "metadata": {},
   "outputs": [
    {
     "name": "stdout",
     "output_type": "stream",
     "text": [
      "364.42857142857144\n"
     ]
    }
   ],
   "source": [
    "# Answer\n",
    "total_sum = sum(li_avg)\n",
    "\n",
    "num_elements = len(li_avg)\n",
    "\n",
    "average = total_sum / num_elements\n",
    "\n",
    "print(average)"
   ]
  },
  {
   "cell_type": "markdown",
   "id": "1c917e47-09e1-4cc4-83f0-a9ad0e5dc5d6",
   "metadata": {},
   "source": [
    "7. (2) Using sort() method and index, display the second largest value in li_avg"
   ]
  },
  {
   "cell_type": "code",
   "execution_count": 28,
   "id": "bfde0f7b-9dca-4e6b-8fce-e4ec6a7bc01b",
   "metadata": {},
   "outputs": [
    {
     "name": "stdout",
     "output_type": "stream",
     "text": [
      "592\n"
     ]
    }
   ],
   "source": [
    "# Answer\n",
    "li_avg.sort(reverse=True)\n",
    "\n",
    "second_largest = li_avg[1]\n",
    "\n",
    "print(second_largest)"
   ]
  },
  {
   "cell_type": "markdown",
   "id": "5b8969cc-55cc-42bd-b4be-5597259b119b",
   "metadata": {},
   "source": [
    "8. Write a program that asks users to enter an email address.<br>\n",
    "Using split() method and index, display the domain of the email address.<br>\n",
    "For example, if a user enters 't.john@wsu.edu', wsu.edu should be printed."
   ]
  },
  {
   "cell_type": "code",
   "execution_count": 29,
   "id": "4308d103-b69e-4bc6-abda-5e6d4fd6c077",
   "metadata": {},
   "outputs": [
    {
     "name": "stdout",
     "output_type": "stream",
     "text": [
      "Enter your email: samuel.lalor@wsu.edu\n",
      "wsu.edu\n"
     ]
    }
   ],
   "source": [
    "# Answer\n",
    "email = input('Enter your email: ')\n",
    "domain = email.split('@')[1]\n",
    "\n",
    "print(domain)\n"
   ]
  },
  {
   "cell_type": "markdown",
   "id": "06646e43-29d6-4b3d-a06e-50c777830377",
   "metadata": {},
   "source": [
    "9. Create an array, firms, that contains three firms with their names, their stock ticker, and stock prices (e.g., Apple, AAPL, and 180). "
   ]
  },
  {
   "cell_type": "code",
   "execution_count": 41,
   "id": "16095aa3",
   "metadata": {},
   "outputs": [],
   "source": [
    "# Answer\n",
    "firms = [\n",
    "    {\"name\": \"Apple\", \"ticker\": \"AAPL\", \"price\": 180},\n",
    "    {\"name\": \"Google\", \"ticker\": \"GOOGL\", \"price\": 2800},\n",
    "    {\"name\": \"Microsoft\", \"ticker\": \"MSFT\", \"price\": 300}\n",
    "]\n",
    "\n",
    "print(firms)\n"
   ]
  }
 ],
 "metadata": {
  "kernelspec": {
   "display_name": "Python 3 (ipykernel)",
   "language": "python",
   "name": "python3"
  },
  "language_info": {
   "codemirror_mode": {
    "name": "ipython",
    "version": 3
   },
   "file_extension": ".py",
   "mimetype": "text/x-python",
   "name": "python",
   "nbconvert_exporter": "python",
   "pygments_lexer": "ipython3",
   "version": "3.11.5"
  }
 },
 "nbformat": 4,
 "nbformat_minor": 5
}
