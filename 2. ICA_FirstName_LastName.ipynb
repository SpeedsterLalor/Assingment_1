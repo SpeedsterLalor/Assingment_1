{
 "cells": [
  {
   "cell_type": "markdown",
   "id": "7c61c7d8-a1e0-4747-9592-56b20062f18d",
   "metadata": {},
   "source": [
    "1. Write a program that asks user to input a string and prints out the length of its string"
   ]
  },
  {
   "cell_type": "code",
   "execution_count": 1,
   "id": "3471c284",
   "metadata": {},
   "outputs": [
    {
     "name": "stdout",
     "output_type": "stream",
     "text": [
      "Enter a string: Apple Banana\n",
      "12\n"
     ]
    }
   ],
   "source": [
    "# Answer\n",
    "\n",
    "string = input('Enter a string: ')\n",
    "\n",
    "count = len(string)\n",
    "\n",
    "print(count)\n"
   ]
  },
  {
   "cell_type": "markdown",
   "id": "ae8f6638-4452-4f04-a4ed-a714689f295d",
   "metadata": {},
   "source": [
    "2. Print the following:\n",
    "\n",
    "He's going to say, \"I've nailed it!\""
   ]
  },
  {
   "cell_type": "code",
   "execution_count": 4,
   "id": "ce311992",
   "metadata": {},
   "outputs": [
    {
     "name": "stdout",
     "output_type": "stream",
     "text": [
      "He's going to say, \"I've nailed it!\"\n"
     ]
    }
   ],
   "source": [
    "# Answer\n",
    "\n",
    "print(\"He's going to say, \\\"I've nailed it!\\\"\")\n"
   ]
  },
  {
   "cell_type": "markdown",
   "id": "735adadd-d0e8-4501-ac6b-3216afa1210a",
   "metadata": {},
   "source": [
    "3. Write a program that asks user to input a string and prints out the last letter in the string"
   ]
  },
  {
   "cell_type": "code",
   "execution_count": 5,
   "id": "50a14b67",
   "metadata": {},
   "outputs": [
    {
     "name": "stdout",
     "output_type": "stream",
     "text": [
      "Enter a string: Hello\n",
      "o\n"
     ]
    }
   ],
   "source": [
    "# Answer\n",
    "\n",
    "string = input('Enter a string: ')\n",
    "\n",
    "last = string[-1]\n",
    "\n",
    "print(last)\n"
   ]
  },
  {
   "cell_type": "markdown",
   "id": "2d4065f8-d632-49f5-8c8b-3e2c998b3a87",
   "metadata": {},
   "source": [
    "4. Using indexing/slicing, print the last four number of the variable, license_plate"
   ]
  },
  {
   "cell_type": "code",
   "execution_count": null,
   "id": "6d8e4784-e3ca-4561-a77f-53a9ccd3e706",
   "metadata": {},
   "outputs": [],
   "source": [
    "license_plate = 'WA CJW 1234'"
   ]
  },
  {
   "cell_type": "code",
   "execution_count": 10,
   "id": "891e689f",
   "metadata": {},
   "outputs": [
    {
     "name": "stdout",
     "output_type": "stream",
     "text": [
      "1234\n"
     ]
    }
   ],
   "source": [
    "# Answer\n",
    "license_plate = 'WA CJW 1234'\n",
    "last4 = license_plate[-4:]\n",
    "\n",
    "print(last4)\n",
    "\n"
   ]
  },
  {
   "cell_type": "markdown",
   "id": "371791c5-8e52-4d9b-8ba1-a6bc9a8f6575",
   "metadata": {},
   "source": [
    "5. Using string method, evaluate if the outcome in Q4 consists solely of numbers.\n",
    "(See if your code returns True)"
   ]
  },
  {
   "cell_type": "code",
   "execution_count": 11,
   "id": "63b3da0b-89c1-40f3-9618-c95e27cee39f",
   "metadata": {},
   "outputs": [
    {
     "name": "stdout",
     "output_type": "stream",
     "text": [
      "True\n"
     ]
    }
   ],
   "source": [
    "# Answer\n",
    "license_plate = 'WA CJW 1234'\n",
    "last4 = license_plate[-4:]\n",
    "\n",
    "torf = last4.isdigit()\n",
    "\n",
    "print(torf)\n",
    "\n",
    "\n"
   ]
  },
  {
   "cell_type": "markdown",
   "id": "bd6e0754-9028-44de-9a45-13b9c9f2140e",
   "metadata": {},
   "source": [
    "6. Using indexing/slicing, print 'wwww' from the variable, wsu."
   ]
  },
  {
   "cell_type": "code",
   "execution_count": 13,
   "id": "edf03822-1a0f-4615-983d-7df9dd44a9ad",
   "metadata": {},
   "outputs": [],
   "source": [
    "wsu = 'wsuwsuwsuwsu'"
   ]
  },
  {
   "cell_type": "code",
   "execution_count": 15,
   "id": "959ba459",
   "metadata": {},
   "outputs": [
    {
     "name": "stdout",
     "output_type": "stream",
     "text": [
      "wwww\n"
     ]
    }
   ],
   "source": [
    "# Answer\n",
    "\n",
    "print(wsu[0::3])\n"
   ]
  },
  {
   "cell_type": "markdown",
   "id": "6c1a03fd-4ae2-4b3e-97a9-6d1991daa29b",
   "metadata": {},
   "source": [
    "7. Using indexing/slicing and string method, the variable, language, below print 'NHY'"
   ]
  },
  {
   "cell_type": "code",
   "execution_count": null,
   "id": "6086d836-214c-4936-9403-a26da8a13432",
   "metadata": {},
   "outputs": [],
   "source": [
    "language = 'python'"
   ]
  },
  {
   "cell_type": "code",
   "execution_count": 18,
   "id": "1e6054d8",
   "metadata": {},
   "outputs": [
    {
     "name": "stdout",
     "output_type": "stream",
     "text": [
      "NHY\n"
     ]
    }
   ],
   "source": [
    "# Answer\n",
    "\n",
    "language = 'python'\n",
    "language = language.upper()\n",
    "\n",
    "print(language[::-2])\n"
   ]
  },
  {
   "cell_type": "markdown",
   "id": "8e3ce732-13dd-4e4b-a0cb-6ffe641f9970",
   "metadata": {},
   "source": [
    "8. Using a string method and the variable, phone_number, write a code so that print(phone_number)  prints \"2670000000\""
   ]
  },
  {
   "cell_type": "code",
   "execution_count": null,
   "id": "62222080",
   "metadata": {},
   "outputs": [],
   "source": [
    "phone_number = '267-000-0000'"
   ]
  },
  {
   "cell_type": "code",
   "execution_count": 20,
   "id": "5421c97c",
   "metadata": {},
   "outputs": [
    {
     "name": "stdout",
     "output_type": "stream",
     "text": [
      "2670000000\n"
     ]
    }
   ],
   "source": [
    "# Answer\n",
    "phone_number = '267-000-0000'\n",
    "phone_number = phone_number.replace('-', '')\n",
    "print(phone_number)"
   ]
  },
  {
   "cell_type": "code",
   "execution_count": null,
   "id": "6d10b7fd-8422-4a6f-af86-79fedb570cde",
   "metadata": {},
   "outputs": [],
   "source": [
    "print(phone_number)"
   ]
  },
  {
   "cell_type": "markdown",
   "id": "dbc54de9-3003-4721-be9e-de05ea34447f",
   "metadata": {},
   "source": [
    "9. Using a string method and the variable, string, convert every alphabet a into uppercase A"
   ]
  },
  {
   "cell_type": "code",
   "execution_count": null,
   "id": "d179afe4",
   "metadata": {},
   "outputs": [],
   "source": [
    "string = 'abcdfe2a354a32a'"
   ]
  },
  {
   "cell_type": "code",
   "execution_count": 23,
   "id": "c588449e",
   "metadata": {},
   "outputs": [
    {
     "name": "stdout",
     "output_type": "stream",
     "text": [
      "Abcdfe2A354A32A\n"
     ]
    }
   ],
   "source": [
    "# Answer\n",
    "string = 'abcdfe2a354a32a'\n",
    "string = string.replace('a', 'A')\n",
    "print(string)\n"
   ]
  },
  {
   "cell_type": "markdown",
   "id": "44960ec1-fb31-4fbe-be27-919555a2ba8f",
   "metadata": {},
   "source": [
    "10. print the alphabet, s, 23 times (Do not type s 23 times)"
   ]
  },
  {
   "cell_type": "code",
   "execution_count": 24,
   "id": "efffef82",
   "metadata": {},
   "outputs": [
    {
     "name": "stdout",
     "output_type": "stream",
     "text": [
      "sssssssssssssssssssssss\n"
     ]
    }
   ],
   "source": [
    "# Answer\n",
    "\n",
    "s = \"s\"*23\n",
    "print(s)\n"
   ]
  },
  {
   "cell_type": "markdown",
   "id": "cd969bbe-e63f-4535-8e0f-27daa021b7fd",
   "metadata": {},
   "source": [
    "11. Using the two variable, language1 and language 2, write a program that prints 'Python and Java'"
   ]
  },
  {
   "cell_type": "code",
   "execution_count": null,
   "id": "dfea5398-b5e7-4c72-8336-0b35a2084ab2",
   "metadata": {},
   "outputs": [],
   "source": [
    "language1 = 'Python'\n",
    "language2 = 'Java'"
   ]
  },
  {
   "cell_type": "code",
   "execution_count": null,
   "id": "49cb53b6",
   "metadata": {},
   "outputs": [],
   "source": [
    "# Answer\n",
    "\n",
    "\n"
   ]
  },
  {
   "cell_type": "markdown",
   "id": "df1618f8-549e-4efe-ab99-eca2a2ba57c6",
   "metadata": {},
   "source": [
    "12-1. Using a string method and the variable, dept, write a program that prints 'WSU_MISE' "
   ]
  },
  {
   "cell_type": "code",
   "execution_count": 28,
   "id": "0132f363",
   "metadata": {},
   "outputs": [],
   "source": [
    "dept = 'wsu_mise'"
   ]
  },
  {
   "cell_type": "code",
   "execution_count": 29,
   "id": "18d824f1",
   "metadata": {},
   "outputs": [
    {
     "name": "stdout",
     "output_type": "stream",
     "text": [
      "WSU_MISE\n"
     ]
    }
   ],
   "source": [
    "# Answer\n",
    "\n",
    "dept = dept.upper()\n",
    "print(dept)"
   ]
  },
  {
   "cell_type": "markdown",
   "id": "7368e8e5-c4e0-4a92-afda-0756721dda32",
   "metadata": {},
   "source": [
    "12-2. Check if the variable, dept, was actually modified. If not, write a program so that print(dept) will print 'WSU_MISE'"
   ]
  },
  {
   "cell_type": "code",
   "execution_count": 30,
   "id": "5eb3ffa4-44c3-48f8-8f9d-87e4209f3973",
   "metadata": {},
   "outputs": [
    {
     "name": "stdout",
     "output_type": "stream",
     "text": [
      "WSU_MISE\n"
     ]
    }
   ],
   "source": [
    "# Answer\n",
    "\n",
    "print(dept)\n"
   ]
  },
  {
   "cell_type": "code",
   "execution_count": null,
   "id": "0f897e58-f4d5-4c79-b6fd-c17e8c512222",
   "metadata": {},
   "outputs": [],
   "source": [
    "print(dept)"
   ]
  },
  {
   "cell_type": "markdown",
   "id": "e5045313-51ce-48d3-b449-218c0ce1d6fc",
   "metadata": {},
   "source": [
    "13. Write a program that asks users to enter a number with four digits.<br>\n",
    "Then, displays the sum of the single digit numbers in the number.<br>\n",
    "For example, if 1234 is entered, the program should display 10, which is the sum of 1,2,3,4<br>\n",
    "\n",
    "Hint: Use indexing."
   ]
  },
  {
   "cell_type": "code",
   "execution_count": 32,
   "id": "551ecabb",
   "metadata": {},
   "outputs": [
    {
     "name": "stdout",
     "output_type": "stream",
     "text": [
      "Enter four numbers: 1234\n",
      "10\n"
     ]
    }
   ],
   "source": [
    "# Answer\n",
    "\n",
    "digits = input('Enter four numbers: ')\n",
    "\n",
    "num1 = int(digits[0])\n",
    "num2 = int(digits[1])\n",
    "num3 = int(digits[2])\n",
    "num4 = int(digits[3])\n",
    "\n",
    "count = num1 + num2 + num3 + num4\n",
    "\n",
    "print(count)"
   ]
  },
  {
   "cell_type": "markdown",
   "id": "f6437a1e-5592-4fae-8ac5-a6d034f06641",
   "metadata": {},
   "source": [
    "14. Write a program that asks users to enter a string and<br>\n",
    "displays the number of the occurrences of alphabet 'a' in the string, regardless of whether it is lowercase or uppercase.<br>\n",
    "That is, 'A' as well as 'a' should be counted."
   ]
  },
  {
   "cell_type": "code",
   "execution_count": 33,
   "id": "1081bd0e",
   "metadata": {},
   "outputs": [
    {
     "name": "stdout",
     "output_type": "stream",
     "text": [
      "Enter a string: apple apple apple\n",
      "3\n"
     ]
    }
   ],
   "source": [
    "# Answer\n",
    "\n",
    "string = input('Enter a string: ')\n",
    "\n",
    "string = string.lower()\n",
    "\n",
    "a = string.count('a')\n",
    "\n",
    "print(a)\n",
    "\n",
    "\n",
    "\n"
   ]
  },
  {
   "cell_type": "markdown",
   "id": "d04ab11a-da65-41b5-9c6f-739b6dd019f5",
   "metadata": {},
   "source": [
    "15. Write a program that asks users to enter their email address and<br>\n",
    "prints out their email account's domain.<br>\n",
    "\n",
    "Put differently, print the string after '@'.<br>\n",
    "For example, if 'youngjin.kwon@wsu.edu' is entered, 'wsu.edu' should be printed"
   ]
  },
  {
   "cell_type": "code",
   "execution_count": 34,
   "id": "1a6605bd",
   "metadata": {},
   "outputs": [
    {
     "name": "stdout",
     "output_type": "stream",
     "text": [
      "Enter your email address: samuel.lalor@wsu.edu\n",
      "wsu.edu\n"
     ]
    }
   ],
   "source": [
    "# Answer\n",
    "email = input('Enter your email address: ')\n",
    "\n",
    "domain = email.split('@')[1]\n",
    "\n",
    "print(domain)"
   ]
  },
  {
   "cell_type": "code",
   "execution_count": null,
   "id": "aaaa9fd0",
   "metadata": {},
   "outputs": [],
   "source": []
  }
 ],
 "metadata": {
  "kernelspec": {
   "display_name": "Python 3 (ipykernel)",
   "language": "python",
   "name": "python3"
  },
  "language_info": {
   "codemirror_mode": {
    "name": "ipython",
    "version": 3
   },
   "file_extension": ".py",
   "mimetype": "text/x-python",
   "name": "python",
   "nbconvert_exporter": "python",
   "pygments_lexer": "ipython3",
   "version": "3.11.5"
  },
  "varInspector": {
   "cols": {
    "lenName": 16,
    "lenType": 16,
    "lenVar": 40
   },
   "kernels_config": {
    "python": {
     "delete_cmd_postfix": "",
     "delete_cmd_prefix": "del ",
     "library": "var_list.py",
     "varRefreshCmd": "print(var_dic_list())"
    },
    "r": {
     "delete_cmd_postfix": ") ",
     "delete_cmd_prefix": "rm(",
     "library": "var_list.r",
     "varRefreshCmd": "cat(var_dic_list()) "
    }
   },
   "types_to_exclude": [
    "module",
    "function",
    "builtin_function_or_method",
    "instance",
    "_Feature"
   ],
   "window_display": false
  }
 },
 "nbformat": 4,
 "nbformat_minor": 5
}
