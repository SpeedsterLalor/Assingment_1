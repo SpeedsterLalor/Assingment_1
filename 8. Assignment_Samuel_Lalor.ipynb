{
 "cells": [
  {
   "cell_type": "markdown",
   "id": "5737fde0-1a5f-4892-84e1-c22770b018df",
   "metadata": {},
   "source": [
    "1. (1) Create a function named celsius_converter.<br>\n",
    "    It takes the temperature in Fahrenheit and returns the temperature in Celsius.<br>\n",
    "   The formula for the conversion is as follows:<br>\n",
    "   C = (F - 32) * 5 / 9"
   ]
  },
  {
   "cell_type": "code",
   "execution_count": 7,
   "id": "a4a8da00-d655-4453-afbb-156c5359aac2",
   "metadata": {},
   "outputs": [
    {
     "data": {
      "text/plain": [
       "0.0"
      ]
     },
     "execution_count": 7,
     "metadata": {},
     "output_type": "execute_result"
    }
   ],
   "source": [
    "# Answer\n",
    "\n",
    "def celsius_converter(fahrenheit):\n",
    "    celsius = (fahrenheit - 32) * 5 / 9\n",
    "    return celsius\n",
    "\n",
    "celsius_converter(32)"
   ]
  },
  {
   "cell_type": "markdown",
   "id": "9b0a4a3e-5c5e-4a24-abee-82c78475e8a1",
   "metadata": {},
   "source": [
    "1. (2) Modify your function in Q1-1.<br>\n",
    "    It has a default parameter which is 0.<br>\n",
    "    Modify your function, accordingly."
   ]
  },
  {
   "cell_type": "code",
   "execution_count": 9,
   "id": "35e00c73-b67a-4a6e-848a-aa64fcda49cf",
   "metadata": {},
   "outputs": [
    {
     "data": {
      "text/plain": [
       "-17.77777777777778"
      ]
     },
     "execution_count": 9,
     "metadata": {},
     "output_type": "execute_result"
    }
   ],
   "source": [
    "# Answer\n",
    "\n",
    "def celsius_converter(fahrenheit=0):\n",
    "    celsius = (fahrenheit - 32) * 5 / 9\n",
    "    return celsius\n",
    "\n",
    "celsius_converter()\n"
   ]
  },
  {
   "cell_type": "markdown",
   "id": "277e1a4f-4a56-419e-a7b7-be838f6ec622",
   "metadata": {},
   "source": [
    "1. (3) Call your function in Q1-2.<br>\n",
    "   In calling it, pass 30 as an argument.<br>\n",
    "   Assign what the function returns to a variable (name it whatever you want).<br>\n",
    "   Usine the variable, print the following string the temperature in celsius is {variable_name}.    "
   ]
  },
  {
   "cell_type": "code",
   "execution_count": 12,
   "id": "f873f29e-1f19-4be8-9c44-0274f813e4ec",
   "metadata": {},
   "outputs": [
    {
     "name": "stdout",
     "output_type": "stream",
     "text": [
      "The temperature in Celsius is -1.1111111111111112.\n"
     ]
    }
   ],
   "source": [
    "# Answer\n",
    "\n",
    "converted_temperature = celsius_converter(30)\n",
    "\n",
    "print(f\"The temperature in Celsius is {converted_temperature}.\")\n"
   ]
  },
  {
   "cell_type": "markdown",
   "id": "6ba1477d-2f1d-49e4-9bf5-576d8c2e0896",
   "metadata": {},
   "source": [
    "2. Define a function that accepts 2 numbers as arguments and returns the bigger number.<br>\n",
    "    In defining a function, use if statement and compare two parameters."
   ]
  },
  {
   "cell_type": "code",
   "execution_count": 16,
   "id": "bf005912-07e5-4410-a4cf-f6c725a67ff4",
   "metadata": {},
   "outputs": [
    {
     "name": "stdout",
     "output_type": "stream",
     "text": [
      "The bigger number is: 20\n"
     ]
    }
   ],
   "source": [
    "# Answer\n",
    "\n",
    "num1 = 10\n",
    "num2 = 20\n",
    "\n",
    "def bigger_number(num1, num2):\n",
    "    if num1 > num2:\n",
    "        return num1\n",
    "    else:\n",
    "        return num2\n",
    "\n",
    "result = bigger_number(num1, num2)\n",
    "print(\"The bigger number is:\", result)"
   ]
  },
  {
   "cell_type": "markdown",
   "id": "7a30af90-da45-494c-a01f-b52c3b4f9848",
   "metadata": {},
   "source": [
    "3. There are three seating categories at a stadium.<br>\n",
    "    Class A seats cost 20 dollars, Class B seats costs cost 15 dollars, and Class C seats cost 10 dollars.<br>\n",
    "    Write a function that receives three arguments.<br>\n",
    "    Each argument describes the number of tickets sold for each classes.<br>\n",
    "    The function should return the amount of income generated from ticket sales."
   ]
  },
  {
   "cell_type": "code",
   "execution_count": 17,
   "id": "11a5dff5-0634-4d70-9ace-70030883d097",
   "metadata": {},
   "outputs": [
    {
     "name": "stdout",
     "output_type": "stream",
     "text": [
      "Total income generated from ticket sales: 6250 dollars\n"
     ]
    }
   ],
   "source": [
    "# Answer\n",
    "\n",
    "def calculate_income(class_a_tickets, class_b_tickets, class_c_tickets):\n",
    "    class_a_income = class_a_tickets * 20\n",
    "    class_b_income = class_b_tickets * 15\n",
    "    class_c_income = class_c_tickets * 10\n",
    "    total_income = class_a_income + class_b_income + class_c_income\n",
    "    return total_income\n",
    "\n",
    "class_a_tickets_sold = 100\n",
    "class_b_tickets_sold = 150\n",
    "class_c_tickets_sold = 200\n",
    "\n",
    "total_income = calculate_income(class_a_tickets_sold, class_b_tickets_sold, class_c_tickets_sold)\n",
    "print(\"Total income generated from ticket sales:\", total_income, \"dollars\")\n"
   ]
  },
  {
   "cell_type": "markdown",
   "id": "d107bc33-eef6-4396-b218-95668eddb7c8",
   "metadata": {},
   "source": [
    "4. (1) Write a function that counts how many odd numbers are present in the given list (parameter).<br>\n",
    "    Call the function and pass [1,2,3,4,5]. See if 3 is returned."
   ]
  },
  {
   "cell_type": "code",
   "execution_count": 6,
   "id": "e5c25945-9c0d-4278-ba4f-fc79d6b95eed",
   "metadata": {},
   "outputs": [],
   "source": [
    "# Answer\n",
    "\n",
    "def count_odd_numbers(numbers):\n",
    "    count = 0\n",
    "    for num in numbers:\n",
    "        if num % 2 != 0:\n",
    "            count += 1\n",
    "    return count\n",
    "\n",
    "numbers_list = [1, 2, 3, 4, 5]\n",
    "odd_count = count_odd_numbers(numbers_list)\n",
    "print(\"Number of odd numbers in the list:\", odd_count)\n"
   ]
  },
  {
   "cell_type": "markdown",
   "id": "6fd4222a-6de4-4efa-a571-4352b89b6504",
   "metadata": {},
   "source": [
    "4. (2) Change the parameter in the function of Q4-1<br>\n",
    "    Instead of list, use *args as a parameter so that the function allows a user to enter numbers that are separated by commas.<br>\n",
    "    Call the function and pass 1,2,3,4,5. See if 3 is returned."
   ]
  },
  {
   "cell_type": "code",
   "execution_count": 18,
   "id": "b2f3eeed-b860-4981-8bb9-60937763973f",
   "metadata": {
    "scrolled": true
   },
   "outputs": [
    {
     "name": "stdout",
     "output_type": "stream",
     "text": [
      "Number of odd numbers: 3\n"
     ]
    }
   ],
   "source": [
    "# Answer\n",
    "\n",
    "def count_odd_numbers(*args):\n",
    "    count = 0\n",
    "    for num in args:\n",
    "        if num % 2 != 0:\n",
    "            count += 1\n",
    "    return count\n",
    "\n",
    "odd_count = count_odd_numbers(1, 2, 3, 4, 5)\n",
    "print(\"Number of odd numbers:\", odd_count)\n"
   ]
  },
  {
   "cell_type": "markdown",
   "id": "0cffc408-2a37-4fe9-b5f1-e189f16ad1d8",
   "metadata": {},
   "source": [
    "5. Define my_var (assign a value of 25 or 5 to it) below so that print(result) prints 25 and print(my_var) prints 5.<br>\n",
    "    You may define my_var only \"twice\" in the following code.<br>\n",
    "    You can define it in and out of function.."
   ]
  },
  {
   "cell_type": "code",
   "execution_count": 19,
   "id": "42fe695c-6f08-46aa-8a8b-b7d2c41aaab0",
   "metadata": {},
   "outputs": [
    {
     "name": "stdout",
     "output_type": "stream",
     "text": [
      "25\n",
      "5\n"
     ]
    }
   ],
   "source": [
    "# Answer; Define my_var twice below\n",
    "my_var = 5\n",
    "\n",
    "def my_func():\n",
    "    my_var = 25\n",
    "    return my_var\n",
    "\n",
    "result = my_func()\n",
    "\n",
    "print(result)  # it should print 25\n",
    "print(my_var)  # it print 5\n"
   ]
  },
  {
   "cell_type": "code",
   "execution_count": null,
   "id": "43a315b7",
   "metadata": {},
   "outputs": [],
   "source": []
  }
 ],
 "metadata": {
  "kernelspec": {
   "display_name": "Python 3 (ipykernel)",
   "language": "python",
   "name": "python3"
  },
  "language_info": {
   "codemirror_mode": {
    "name": "ipython",
    "version": 3
   },
   "file_extension": ".py",
   "mimetype": "text/x-python",
   "name": "python",
   "nbconvert_exporter": "python",
   "pygments_lexer": "ipython3",
   "version": "3.11.5"
  }
 },
 "nbformat": 4,
 "nbformat_minor": 5
}
