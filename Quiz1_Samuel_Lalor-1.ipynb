{
 "cells": [
  {
   "cell_type": "markdown",
   "id": "8706061a-539a-48fd-b0cb-5a5bd14901f0",
   "metadata": {},
   "source": [
    "## Before you close this Jupyter Notebook,"
   ]
  },
  {
   "cell_type": "markdown",
   "id": "132c527d-4f51-4746-b4ee-b4658bcd38f3",
   "metadata": {},
   "source": [
    "1. Rename your file in the above. (Press the file name on the top)\n",
    "2. Go to File > Save Notebook.\n",
    "3. Check if the last checkpoint (next to the file name on the top) is within the last minute.\n",
    "4. Do not close this file. With it opened, upload the file on Canvas.\n",
    "5. Download the uploaded file on Canvas and open it.\n",
    "6. If the file is up to date, you may close all the Jupyter Notebooks.\n",
    "7. Raise your hand and ask for help if you need."
   ]
  },
  {
   "cell_type": "markdown",
   "id": "9d49f686-d4bc-4a57-8587-b0c460bfb9a8",
   "metadata": {},
   "source": [
    "## Note that after leaving this classroom, you cannot resubmit the file even when there's something wrong with it.\n",
    "\n",
    "## You must make sure you uploaded a correct file before leaving the classroom."
   ]
  },
  {
   "cell_type": "markdown",
   "id": "e6b70f9b-fd17-4549-a5dc-bf6f23429056",
   "metadata": {},
   "source": [
    "## A List of Functions and Methods"
   ]
  },
  {
   "cell_type": "markdown",
   "id": "1ca3c0b9-bd1d-460c-b97f-e9bf71ed2e0d",
   "metadata": {},
   "source": [
    "print(...)<br>\n",
    "int(...)<br>\n",
    "float(...)<br>\n",
    "str(...)<br>\n",
    "type(...)<br>\n",
    "input(...)<br>\n",
    "len(...)<br>"
   ]
  },
  {
   "cell_type": "markdown",
   "id": "9d76aaad-5682-4cf6-92ed-2568095d0d00",
   "metadata": {},
   "source": [
    "string.upper() <br>\n",
    "string.lower()<br>\n",
    "string.count(...)<br>\n",
    "string.replace(... , ...)<br>\n",
    "string.isdigit()<br>\n",
    "string.isalpha()<br>\n",
    "string.find(...)<br>"
   ]
  },
  {
   "cell_type": "markdown",
   "id": "2e191f05-31cb-4163-8f74-c1fc85cd688a",
   "metadata": {},
   "source": [
    "+: summation<br>\n",
    "-: substraction<br> \n",
    "*: multiplication<br>\n",
    "/: division<br>"
   ]
  },
  {
   "cell_type": "markdown",
   "id": "2828db39-5bd5-4265-9d87-c0ba90b9d148",
   "metadata": {},
   "source": [
    "------------------------------------------------------------------------"
   ]
  },
  {
   "cell_type": "markdown",
   "id": "6cab5788-3401-4d14-8f15-303a74c98e8e",
   "metadata": {},
   "source": [
    "<b>Question 1</b> consists of three short-answer questions.<br>\n",
    "Each short-answer question is worth 0.5 point and you can earn up to 1 point.<br>\n",
    "- 2 or 3 answers are correct: 1 point\n",
    "- 1 answer is correct: 0.5 point\n",
    "- 0 answer is correct: 0 point"
   ]
  },
  {
   "cell_type": "markdown",
   "id": "4541d38e-1b29-4e28-963b-c046d8269214",
   "metadata": {},
   "source": [
    "1. (a) The following code runs without any problem.<br>\n",
    "With that said, codes like below are absolutely not recommended.<br>\n",
    "Briefly explain the reason."
   ]
  },
  {
   "cell_type": "code",
   "execution_count": null,
   "id": "d7223661-1f82-4704-b8f7-7fe148d3b304",
   "metadata": {},
   "outputs": [],
   "source": [
    "# !!!Do not modify the code below!!!\n",
    "type = 150\n",
    "print(type + 200)"
   ]
  },
  {
   "cell_type": "code",
   "execution_count": null,
   "id": "0a48a501-1e30-40d7-a84a-47757846ff6b",
   "metadata": {},
   "outputs": [],
   "source": [
    "# Answer \n",
    "# because the value assigned to the variable is still only 150. Instead before printing the following should be called:\n",
    "# type = type + 200\n",
    "# print(type)\n"
   ]
  },
  {
   "cell_type": "markdown",
   "id": "e0e84d92-e348-473d-88eb-7afa1078b109",
   "metadata": {},
   "source": [
    "------------------------------------------------------------------------"
   ]
  },
  {
   "cell_type": "markdown",
   "id": "7bf0ccad-dc5b-4ca8-9053-e5a341e71ae6",
   "metadata": {},
   "source": [
    "1. (b) The following code spits out an error. <br>\n",
    "Briefly explain the reason."
   ]
  },
  {
   "cell_type": "code",
   "execution_count": null,
   "id": "0049f067-29c3-45db-a521-b59e0a920cc2",
   "metadata": {},
   "outputs": [],
   "source": [
    "# !!!Do not modify the code below!!!\n",
    "var name = 'Hello World!'"
   ]
  },
  {
   "cell_type": "code",
   "execution_count": null,
   "id": "66e0e44b-8d4d-4249-a00f-4eff7746e8c6",
   "metadata": {},
   "outputs": [],
   "source": [
    "# Answer\n",
    "#the variable name is not formatted as a variable name should be. There cannot be a space, instead you could use _.\n"
   ]
  },
  {
   "cell_type": "markdown",
   "id": "77aad4fb-1044-495c-90f4-78c167812ece",
   "metadata": {},
   "source": [
    "------------------------------------------------------------------------"
   ]
  },
  {
   "cell_type": "markdown",
   "id": "b15c005b-a303-496f-8bd9-1b78a11885a5",
   "metadata": {},
   "source": [
    "1. (c) List at least two functions that convert the datatypes of data to another datatype.<br>\n",
    "    You will not receive points if you list a wrong function. "
   ]
  },
  {
   "cell_type": "code",
   "execution_count": null,
   "id": "5f2f90d4-05a1-4266-b8d0-5c03dc689f16",
   "metadata": {},
   "outputs": [],
   "source": [
    "# Answer\n",
    "int()\n",
    "str()\n",
    "float()"
   ]
  },
  {
   "cell_type": "markdown",
   "id": "c4558e4e-f472-48d5-ab68-96d80f1e7663",
   "metadata": {},
   "source": [
    "------------------------------------------------------------------------"
   ]
  },
  {
   "cell_type": "markdown",
   "id": "7bdd3f6e-5b79-4100-805b-d342eade54db",
   "metadata": {},
   "source": [
    "2. Assign the following string to a variable, var_str.<br>\n",
    "He's about to say \"I've got this!\"<br>(1 point)"
   ]
  },
  {
   "cell_type": "code",
   "execution_count": 5,
   "id": "4eb50f9b-2053-4657-9b6a-45a3f92a1207",
   "metadata": {},
   "outputs": [
    {
     "name": "stdout",
     "output_type": "stream",
     "text": [
      "He's about to say \"I've got this!\"\n"
     ]
    }
   ],
   "source": [
    "# Answer\n",
    "var_str = \"He's about to say \\\"I've got this!\\\"\"\n",
    "\n",
    "print(var_str)"
   ]
  },
  {
   "cell_type": "markdown",
   "id": "2accc3a1-620c-4202-bd62-81ff8285be87",
   "metadata": {},
   "source": [
    "------------------------------------------------------------------------"
   ]
  },
  {
   "cell_type": "markdown",
   "id": "c14aca98-b704-4138-b3a5-e3a735132596",
   "metadata": {},
   "source": [
    "3. Using indexing/slicing/step, print Python in the following string.<br>\n",
    "No whitespace should be included in the outcome.<br>\n",
    "(1 point)"
   ]
  },
  {
   "cell_type": "code",
   "execution_count": 11,
   "id": "fe88e0b4-ea73-442a-9484-7285ba867ff0",
   "metadata": {},
   "outputs": [],
   "source": [
    "# !!!Do not modify the code below!!!\n",
    "quiz_string = \"Introduction To Python Programming\""
   ]
  },
  {
   "cell_type": "code",
   "execution_count": 51,
   "id": "135f54fd-66e5-41d7-baf6-335974be1af6",
   "metadata": {},
   "outputs": [
    {
     "name": "stdout",
     "output_type": "stream",
     "text": [
      "IntroductionToPythonProgramming\n",
      "\n",
      "Introduction To Python Programming\n"
     ]
    }
   ],
   "source": [
    "# Answer\n",
    "quiz_string = \"Introduction To Python Programming\"\n",
    "\n",
    "quiz_string = quiz_string.replace(' ', '')\n",
    "\n",
    "print(quiz_string)\n"
   ]
  },
  {
   "cell_type": "markdown",
   "id": "70153dce-f982-49df-9e3e-807f5690daea",
   "metadata": {},
   "source": [
    "------------------------------------------------------------------------"
   ]
  },
  {
   "cell_type": "markdown",
   "id": "4b961a79-c37a-46a4-9a99-3b8b4cff24df",
   "metadata": {},
   "source": [
    "4. Write a program that:\n",
    "   \n",
    "    asks users for their name and age using two input functions,<br> \n",
    "    and prints a message saying, \"Hello, [name]! After your next birthday, you will become [age+1] years old.\"<br>\n",
    "\n",
    "    For example, if a user enters Michael for the name and 25 for the age, the program should print the following string.<br>\n",
    "    Hello, Michael! After your next birthday, you will be 26 years old.<br>\n",
    "    (1 point)"
   ]
  },
  {
   "cell_type": "code",
   "execution_count": 10,
   "id": "2329b459-8b30-4897-9656-15ae30159046",
   "metadata": {},
   "outputs": [
    {
     "name": "stdout",
     "output_type": "stream",
     "text": [
      "Enter your name: Kevin Prufer\n",
      "Enter your age: 18\n",
      "Hello, Kevin Prufer! After your next birthday, you will become 19 years old.\n"
     ]
    }
   ],
   "source": [
    "# Answer\n",
    "name  = input('Enter your name: ')\n",
    "age = input('Enter your age: ')\n",
    "\n",
    "age = int(age)\n",
    "print(f'Hello, {name}! After your next birthday, you will become {age+1} years old.')\n"
   ]
  },
  {
   "cell_type": "markdown",
   "id": "aaa08b8c-c06c-4598-b126-b6d70290b06d",
   "metadata": {},
   "source": [
    "------------------------------------------------------------------------"
   ]
  },
  {
   "cell_type": "markdown",
   "id": "ef636721-dbc8-4cf7-9e26-93dd9fa64e4d",
   "metadata": {},
   "source": [
    "5. Write a program that: \n",
    "\n",
    "    asks users to enter a number with four digits, <br>\n",
    "    and displays the product of the digits in the number.<br> \n",
    "\n",
    "    For example, if 3456 is entered, the program should display 360, which is the product of 3, 4, 5, and 6.<br>\n",
    "    (1 point)"
   ]
  },
  {
   "cell_type": "code",
   "execution_count": 12,
   "id": "19b05dc8-bd2d-45f9-9dd0-059104b52805",
   "metadata": {},
   "outputs": [
    {
     "name": "stdout",
     "output_type": "stream",
     "text": [
      "Enter a number with four digits: 3456\n",
      "360\n"
     ]
    }
   ],
   "source": [
    "# Answer\n",
    "\n",
    "num = input('Enter a number with four digits: ')\n",
    "\n",
    "n1 = int(num[0])\n",
    "n2 = int(num[1])\n",
    "n3 = int(num[2])\n",
    "n4 = int(num[3])\n",
    "\n",
    "count = n1 * n2 * n3 * n4\n",
    "\n",
    "print(count)"
   ]
  },
  {
   "cell_type": "markdown",
   "id": "407e659c-03d0-451d-929e-f974cbd4d068",
   "metadata": {},
   "source": [
    "6. Write a program that: \n",
    "\n",
    "    asks users to enter a temperature in Fahrenheit,<br>\n",
    "    converts the temperatures to Celsius temperatures (using the formula below),<br>\n",
    "    and displays the temperature in Celsius.<br>\n",
    "\n",
    "    For example, if a user enters 212, the program should display 100.<br>\n",
    "    (1 point)"
   ]
  },
  {
   "attachments": {
    "3541ec37-fffb-4661-a76d-19edb5fa9ca0.png": {
     "image/png": "[encoded data removed]"
    }
   },
   "cell_type": "markdown",
   "id": "d78f7723-4571-4122-b5bd-642ef13a9e1d",
   "metadata": {},
   "source": [
    "![image.png](attachment:3541ec37-fffb-4661-a76d-19edb5fa9ca0.png)"
   ]
  },
  {
   "cell_type": "code",
   "execution_count": 49,
   "id": "996a269c-0cec-44c2-a78b-5aa798423fc1",
   "metadata": {},
   "outputs": [
    {
     "name": "stdout",
     "output_type": "stream",
     "text": [
      "Enter a temperature in fahrenheit: 212\n",
      "In celcius, the temperature you inputted is 100.0 degrees.\n"
     ]
    }
   ],
   "source": [
    "# Answer\n",
    "faren = input('Enter a temperature in fahrenheit: ')\n",
    "faren = int(faren)\n",
    "celcius = 5/9*(faren-32)\n",
    "print(f'In celcius, the temperature you inputted is {celcius} degrees.')\n",
    "\n",
    "\n"
   ]
  },
  {
   "cell_type": "markdown",
   "id": "b108bb80-2884-4f6a-8a66-caebb34cb5a2",
   "metadata": {},
   "source": [
    "------------------------------------------------------------------------"
   ]
  },
  {
   "cell_type": "markdown",
   "id": "cf3323f0-d468-46ba-b0c0-0fdf524cf72d",
   "metadata": {},
   "source": [
    "7. Write a program that: \n",
    "\n",
    "    asks users to enter their email address,<br>\n",
    "    and prints out the user name part of their email.\n",
    "\n",
    "    For example, if taylor.swift@wsu.edu is entered, taylor.swift should be printed<br>\n",
    "    (1point)"
   ]
  },
  {
   "cell_type": "code",
   "execution_count": 27,
   "id": "1a390984-850c-43c0-bf58-f89c32ca2649",
   "metadata": {},
   "outputs": [
    {
     "name": "stdout",
     "output_type": "stream",
     "text": [
      "Enter your email address: samuel.lalor@wsu.edu\n",
      "samuel.lalor\n"
     ]
    }
   ],
   "source": [
    "# Answer\n",
    "email = input('Enter your email address: ')\n",
    "\n",
    "domain = email.find('@')\n",
    "\n",
    "print(email[0:domain])\n"
   ]
  },
  {
   "cell_type": "markdown",
   "id": "5ecd3f03-531a-4109-b513-2fd4190b052b",
   "metadata": {},
   "source": [
    "------------------------------------------------------------------------"
   ]
  },
  {
   "cell_type": "markdown",
   "id": "7261bbc2-a2ca-4e86-8a18-0f7fe8794c85",
   "metadata": {},
   "source": [
    "8. Write a program that:\n",
    "\n",
    "    prompts the user to enter a string that contains alphabetic characters and whitespaces,<br>\n",
    "    counts the number of alphabetical characters and the number of spaces in the entered string,<br>\n",
    "    and displays the result as shown in the example below.\n",
    "\n",
    "    If a user enters \"Apple Banana\",<br>\n",
    "    the result should display:<br>\n",
    "    \"In the entered string, alphabetical characters appear 11 time(s) and whitespaces appear 1 time(s).\"<br>\n",
    "    (2 points)"
   ]
  },
  {
   "cell_type": "code",
   "execution_count": 28,
   "id": "d939a8d2-08f1-42cc-a649-ac0c62f7e965",
   "metadata": {},
   "outputs": [
    {
     "name": "stdout",
     "output_type": "stream",
     "text": [
      "Enter a string of letters: Apple Banana\n",
      "In the entered string, alphabetical characters appear 11 time(s) and whitespaces appear 1 time(s).\n"
     ]
    }
   ],
   "source": [
    "# Answer\n",
    "string = input('Enter a string of letters: ')\n",
    "\n",
    "space = string.count(' ')\n",
    "\n",
    "alphabet = len(string)-space\n",
    "\n",
    "print(f'In the entered string, alphabetical characters appear {alphabet} time(s) and whitespaces appear {space} time(s).')\n",
    "\n"
   ]
  },
  {
   "cell_type": "markdown",
   "id": "a138a8a0-cfc0-428c-9d5e-e03dd8721db8",
   "metadata": {},
   "source": [
    "------------------------------------------------------------------------"
   ]
  },
  {
   "cell_type": "markdown",
   "id": "6184777e-2117-4911-a76a-10d028e01577",
   "metadata": {},
   "source": [
    "9. Using a string method, modify 'and' in the following string to 'end'.<br>\n",
    "    After running your answer, print(final) should display:<br>\n",
    "    This is the end of the quiz.<br>\n",
    "    (1 point)"
   ]
  },
  {
   "cell_type": "code",
   "execution_count": 52,
   "id": "ae96d741-e856-4ffa-836a-89d8bc351a4e",
   "metadata": {},
   "outputs": [],
   "source": [
    "# !!!Do not modify the code below!!!\n",
    "final = \"This is the and of the quiz\""
   ]
  },
  {
   "cell_type": "code",
   "execution_count": 53,
   "id": "deffac60-44f8-4d7c-afe5-a0850699d7e3",
   "metadata": {},
   "outputs": [],
   "source": [
    "# Answer\n",
    "# Do not provide an answer that assigns the whole string to the variable, final, like below.\n",
    "# final = \"This is the end of the quiz\"\n",
    "# The above is a wrong answer. Use one of the string methods you learned.\n",
    "final = final.replace('and', 'end')\n"
   ]
  },
  {
   "cell_type": "code",
   "execution_count": 54,
   "id": "91fbb0bc-fb60-42e8-a426-a0a5a718a23a",
   "metadata": {},
   "outputs": [
    {
     "name": "stdout",
     "output_type": "stream",
     "text": [
      "This is the end of the quiz\n"
     ]
    }
   ],
   "source": [
    "# After running your code, the following print function should print:\n",
    "# This is the end of the quiz\n",
    "print(final)"
   ]
  },
  {
   "cell_type": "code",
   "execution_count": null,
   "id": "5a8c3ef7",
   "metadata": {},
   "outputs": [],
   "source": []
  }
 ],
 "metadata": {
  "kernelspec": {
   "display_name": "Python 3 (ipykernel)",
   "language": "python",
   "name": "python3"
  },
  "language_info": {
   "codemirror_mode": {
    "name": "ipython",
    "version": 3
   },
   "file_extension": ".py",
   "mimetype": "text/x-python",
   "name": "python",
   "nbconvert_exporter": "python",
   "pygments_lexer": "ipython3",
   "version": "3.11.5"
  }
 },
 "nbformat": 4,
 "nbformat_minor": 5
}
