{
 "cells": [
  {
   "cell_type": "markdown",
   "id": "2c67a8b7-b8d4-4336-bd02-cbd81e7194b5",
   "metadata": {},
   "source": [
    "1. Basics of Comparision and Logical Operators<br>\n",
    "    In the following questions, write down a statement that can come between if and :"
   ]
  },
  {
   "cell_type": "markdown",
   "id": "e62dfeec-ccd1-467a-8f34-89ea9f0cda67",
   "metadata": {},
   "source": [
    "* Write a statement that evaluates if variable x is equal to 5"
   ]
  },
  {
   "cell_type": "code",
   "execution_count": 6,
   "id": "abdddcf7-c08e-4c79-8420-82e7f30b8242",
   "metadata": {},
   "outputs": [
    {
     "data": {
      "text/plain": [
       "True"
      ]
     },
     "execution_count": 6,
     "metadata": {},
     "output_type": "execute_result"
    }
   ],
   "source": [
    "x = 5\n",
    "\n",
    "x == 5"
   ]
  },
  {
   "cell_type": "markdown",
   "id": "cc9ce87e-46e7-4055-8ba4-7988f652599b",
   "metadata": {},
   "source": [
    "* Write a statement that evaluates if variable x is greater than 5 and smaller than 10"
   ]
  },
  {
   "cell_type": "code",
   "execution_count": 7,
   "id": "261e5d60-c2f1-44f5-a61e-1005b4363209",
   "metadata": {},
   "outputs": [
    {
     "data": {
      "text/plain": [
       "False"
      ]
     },
     "execution_count": 7,
     "metadata": {},
     "output_type": "execute_result"
    }
   ],
   "source": [
    "x > 5 and x < 10"
   ]
  },
  {
   "cell_type": "markdown",
   "id": "422fb525-f6c5-4cba-a6e3-6c92eaeed329",
   "metadata": {},
   "source": [
    "* Write a statement that evaluates if variable x is not equal to 5 or greater than 10"
   ]
  },
  {
   "cell_type": "code",
   "execution_count": 8,
   "id": "ae454a57-9af9-4382-9a23-5ceb0e4c9d5f",
   "metadata": {},
   "outputs": [
    {
     "data": {
      "text/plain": [
       "False"
      ]
     },
     "execution_count": 8,
     "metadata": {},
     "output_type": "execute_result"
    }
   ],
   "source": [
    "x != 5 or x > 10\n",
    "\n"
   ]
  },
  {
   "cell_type": "markdown",
   "id": "f56c8d3d-cd61-462c-861c-f4d0739bc194",
   "metadata": {},
   "source": [
    "* Write a statement that evaluates  if variable x is equal to string 'abc'"
   ]
  },
  {
   "cell_type": "code",
   "execution_count": 9,
   "id": "fe338a3b-fbd6-40ae-8435-52613dabdf78",
   "metadata": {},
   "outputs": [
    {
     "data": {
      "text/plain": [
       "False"
      ]
     },
     "execution_count": 9,
     "metadata": {},
     "output_type": "execute_result"
    }
   ],
   "source": [
    "x == 'abc'"
   ]
  },
  {
   "cell_type": "markdown",
   "id": "537d77c7-15a2-45f4-a2fd-e01c40af30b5",
   "metadata": {},
   "source": [
    "* Write a statement that evaluates  if variable x is an element of a list, li_1"
   ]
  },
  {
   "cell_type": "code",
   "execution_count": 10,
   "id": "9359e0bd-a066-4aef-9d55-db671d48f4cb",
   "metadata": {},
   "outputs": [],
   "source": [
    "li_1 = [1,2,3]"
   ]
  },
  {
   "cell_type": "code",
   "execution_count": 12,
   "id": "0453c449-4ad2-402e-8f37-715e9dbdf963",
   "metadata": {},
   "outputs": [],
   "source": [
    "if x in li_1:\n",
    "    print(\"x is an element of li_1\")\n"
   ]
  },
  {
   "cell_type": "markdown",
   "id": "ad11c6de-6661-4f41-981a-49272bfaa45c",
   "metadata": {},
   "source": [
    "* Write a statement that evaluates if variable x is not an element of a list, li_1"
   ]
  },
  {
   "cell_type": "code",
   "execution_count": 13,
   "id": "84f0bfb1-c17c-4529-a2ed-334f9ea2dd29",
   "metadata": {},
   "outputs": [
    {
     "name": "stdout",
     "output_type": "stream",
     "text": [
      "x is not an element of li_1\n"
     ]
    }
   ],
   "source": [
    "if x in li_1:\n",
    "    print(\"x is an element of li_1\")\n",
    "else:\n",
    "    print(\"x is not an element of li_1\")"
   ]
  },
  {
   "cell_type": "markdown",
   "id": "4ab7fe3e-1c13-4712-9194-2fbf26a4e328",
   "metadata": {},
   "source": [
    "* Write a statement that evaluates if variable x is a key of a dictionary, dict_1"
   ]
  },
  {
   "cell_type": "code",
   "execution_count": 14,
   "id": "f7c3250e-8c0d-468e-a72a-8724f70906d9",
   "metadata": {},
   "outputs": [],
   "source": [
    "dict_1 = {'a': 1, 'b': 2}"
   ]
  },
  {
   "cell_type": "code",
   "execution_count": 15,
   "id": "19751ddc-ec67-47b4-86af-851f3c3c1779",
   "metadata": {},
   "outputs": [
    {
     "name": "stdout",
     "output_type": "stream",
     "text": [
      "x is not a key in dict_1\n"
     ]
    }
   ],
   "source": [
    "if x in dict_1:\n",
    "    print(\"x is a key in dict_1\")\n",
    "else:\n",
    "    print(\"x is not a key in dict_1\")"
   ]
  },
  {
   "cell_type": "markdown",
   "id": "1d96d17a-cdc9-4ec7-a982-99c3beffd79e",
   "metadata": {},
   "source": [
    "2. Explain why the following returns True or False.<br>\n",
    "   (Explain it with the precedence of logical operators not > and > or)"
   ]
  },
  {
   "cell_type": "markdown",
   "id": "55a0c231-17fe-41da-94c4-9cd7420c9298",
   "metadata": {},
   "source": [
    "* Example"
   ]
  },
  {
   "cell_type": "code",
   "execution_count": 16,
   "id": "87b745e2-2421-4ebc-acae-5c9a52b6e980",
   "metadata": {},
   "outputs": [
    {
     "data": {
      "text/plain": [
       "True"
      ]
     },
     "execution_count": 16,
     "metadata": {},
     "output_type": "execute_result"
    }
   ],
   "source": [
    "False or not False and True"
   ]
  },
  {
   "cell_type": "code",
   "execution_count": 17,
   "id": "741e1194-6501-47d0-8f63-e919df70761b",
   "metadata": {},
   "outputs": [
    {
     "ename": "SyntaxError",
     "evalue": "invalid syntax (1278844337.py, line 1)",
     "output_type": "error",
     "traceback": [
      "\u001b[1;36m  Cell \u001b[1;32mIn[17], line 1\u001b[1;36m\u001b[0m\n\u001b[1;33m    1. Since not should be considered first, not False become True.\u001b[0m\n\u001b[1;37m       ^\u001b[0m\n\u001b[1;31mSyntaxError\u001b[0m\u001b[1;31m:\u001b[0m invalid syntax\n"
     ]
    }
   ],
   "source": [
    "1. Since not should be considered first, not False become True.\n",
    "The code becomes False or True and True\n",
    "2. and is the next; True and True is True\n",
    "The code becomes False or True\n",
    "3. Finally, or is considered. The code returns True (False or True is True) "
   ]
  },
  {
   "cell_type": "code",
   "execution_count": 18,
   "id": "3284db08-14e1-4a96-bccb-31117f0248ea",
   "metadata": {},
   "outputs": [
    {
     "data": {
      "text/plain": [
       "False"
      ]
     },
     "execution_count": 18,
     "metadata": {},
     "output_type": "execute_result"
    }
   ],
   "source": [
    "# (1)\n",
    "x = 1\n",
    "y = 2\n",
    "z = 3\n",
    "not x == 1 and y == 2 or z != 3"
   ]
  },
  {
   "cell_type": "code",
   "execution_count": null,
   "id": "307142e5-bcab-40ff-81cb-d6cf501d7a42",
   "metadata": {},
   "outputs": [],
   "source": [
    "# Answer (1)\n",
    "# for both not and, and; to be true x must not equal one and y must equal two. X does equal one so the statement is false.\n",
    "# But there is an 'or' so since the first half of the statment was false the entire statement could still be true if the \n",
    "# 'or' is found to be true. Z does equal three hence the false output.\n"
   ]
  },
  {
   "cell_type": "code",
   "execution_count": 19,
   "id": "b1fc1f3c-451d-49d2-a886-c303efe31c9c",
   "metadata": {},
   "outputs": [
    {
     "data": {
      "text/plain": [
       "False"
      ]
     },
     "execution_count": 19,
     "metadata": {},
     "output_type": "execute_result"
    }
   ],
   "source": [
    "# (2) \n",
    "w = 5\n",
    "'W' in 'washington' and '2' in [1,2,3] or not w <= 7"
   ]
  },
  {
   "cell_type": "code",
   "execution_count": null,
   "id": "0b975d55-41b8-4b21-8727-a31fd62c3f0b",
   "metadata": {},
   "outputs": [],
   "source": [
    "# Answer (2)\n",
    "#'W' is not in 'washington'. And w is <= 7. \n"
   ]
  },
  {
   "cell_type": "markdown",
   "id": "51774452-0775-4581-a0b2-499921a8c247",
   "metadata": {},
   "source": [
    "3. Write an if statement that assigns 20 to the variable y, and assigns 40 to the variable z<br>\n",
    "    if the variable x is greater than 100.<br>\n",
    "    Note 1: do not care about a situation where a number is not entered.<br>\n",
    "   Note 2: don't forget to convert x to integer."
   ]
  },
  {
   "cell_type": "code",
   "execution_count": 20,
   "id": "94f064eb-02c5-4bd4-8319-e1aa5cfc3bdc",
   "metadata": {},
   "outputs": [
    {
     "name": "stdout",
     "output_type": "stream",
     "text": [
      "Enter only a number!150\n"
     ]
    }
   ],
   "source": [
    "x = input('Enter only a number!')\n",
    "y = 0\n",
    "z = 0"
   ]
  },
  {
   "cell_type": "code",
   "execution_count": 21,
   "id": "c2105163-78ba-44a8-934e-c2cc1ab03b2d",
   "metadata": {},
   "outputs": [
    {
     "name": "stdout",
     "output_type": "stream",
     "text": [
      "150 100 40\n"
     ]
    }
   ],
   "source": [
    "# Answer\n",
    "\n",
    "x = int(x)\n",
    "if x > 100:\n",
    "    y = 100\n",
    "    z = 40\n",
    "\n",
    "\n",
    "########################\n",
    "print(x,y,z)"
   ]
  },
  {
   "cell_type": "markdown",
   "id": "d140683e-f25d-449c-a60d-b22354d259c5",
   "metadata": {},
   "source": [
    "4. Using a isdigit() method, consider one more situation in Q3 where the variable is not a number.<Br>\n",
    "    If that's the case, print enter only a number.\n",
    "   Otherwise, assign 20 to y and 40 to z if x is greater than 100.<br>\n",
    "\n",
    "   Note: use elif and 'and' operator to consider multiple situations"
   ]
  },
  {
   "cell_type": "code",
   "execution_count": 19,
   "id": "2cf7b5b4-68ef-4ecd-ad0b-16094bec64a3",
   "metadata": {},
   "outputs": [
    {
     "name": "stdout",
     "output_type": "stream",
     "text": [
      "Enter only a number!120\n"
     ]
    }
   ],
   "source": [
    "x = input('Enter only a number!')\n",
    "y = 0\n",
    "z = 0"
   ]
  },
  {
   "cell_type": "code",
   "execution_count": 20,
   "id": "e7824ef4-5b25-442a-8846-9805d99a25a7",
   "metadata": {},
   "outputs": [
    {
     "name": "stdout",
     "output_type": "stream",
     "text": [
      "120 20 40\n"
     ]
    }
   ],
   "source": [
    "# Answer\n",
    "if not x.isdigit():\n",
    "    print('Please enter a number')\n",
    "elif int(x) > 100:\n",
    "    y = 20\n",
    "    z = 40\n",
    "\n",
    "\n",
    "########################\n",
    "print(x,y,z)"
   ]
  },
  {
   "cell_type": "markdown",
   "id": "71f07e86-3cbf-4485-a913-602597f86d74",
   "metadata": {},
   "source": [
    "5. Write a program that prints whether an entered number is even or odd<br>\n",
    "    Assume that a user always enters a number<br>\n",
    "    Hint: use % operator that gives you a remainder<br>\n",
    "   If the remainder of a number divided by 2 is 0, it is an even number.<br>\n",
    "   If the remainder is 1, it is an odd number."
   ]
  },
  {
   "cell_type": "code",
   "execution_count": null,
   "id": "74f52fab-b61f-44f1-83df-65b1d1c23144",
   "metadata": {},
   "outputs": [],
   "source": [
    "# % operator example\n",
    "5 % 2 # it returns 1 (the remainder after dividing 5 by 2)"
   ]
  },
  {
   "cell_type": "code",
   "execution_count": 26,
   "id": "48940acc-4e9f-426c-bb64-71790d878752",
   "metadata": {},
   "outputs": [
    {
     "name": "stdout",
     "output_type": "stream",
     "text": [
      "Enter a number9\n"
     ]
    }
   ],
   "source": [
    "num = input('Enter a number: ')"
   ]
  },
  {
   "cell_type": "code",
   "execution_count": 27,
   "id": "754c5cc5-2e6b-411f-b08f-d1d69b904600",
   "metadata": {},
   "outputs": [
    {
     "name": "stdout",
     "output_type": "stream",
     "text": [
      "The entered number is odd.\n"
     ]
    }
   ],
   "source": [
    "# Answer\n",
    "num = int(num)\n",
    "if num % 2 == 0:\n",
    "    print('The entered number is even.')\n",
    "else:\n",
    "    print('The entered number is odd.')\n",
    "\n"
   ]
  },
  {
   "cell_type": "markdown",
   "id": "1c596279-4f44-4e49-b002-7356972f906d",
   "metadata": {},
   "source": [
    "6. Create a program that asks users to enter a word that starts with a or b.<br>\n",
    "   If the word starts with letter a, print your word starts with a<br>\n",
    "   If it starts with letter b, print your word starts with b<br>\n",
    "   If it starts with something else, print enter a word that starts with a or b.\n",
    "\n",
    "   (1) To answer this, use .startswith() method (see example below).<br>\n",
    "   startswith is a string method evaluating whether string data starts with string in the parentheses of startswith. If so, it returns True; otherwise, it returns False.<br>\n",
    "\n",
    "   (2) Another possible answer is to use index and retrieve the first letter of the string; and use == operator to evaluate if the first letter is, for example, equal to 'a'."
   ]
  },
  {
   "cell_type": "code",
   "execution_count": null,
   "id": "ed698ebf-26f0-41ef-ab8f-6581498059a6",
   "metadata": {},
   "outputs": [],
   "source": [
    "str_data = 'Washington'"
   ]
  },
  {
   "cell_type": "code",
   "execution_count": null,
   "id": "f6022954-ef2a-4a29-a33e-b5f255c562f0",
   "metadata": {},
   "outputs": [],
   "source": [
    "str_data.startswith('W') # Returns True"
   ]
  },
  {
   "cell_type": "code",
   "execution_count": null,
   "id": "739678c8-8df7-498c-b3ad-1f6b569cec97",
   "metadata": {},
   "outputs": [],
   "source": [
    "str_data.startswith('A') # Returns False "
   ]
  },
  {
   "cell_type": "code",
   "execution_count": 33,
   "id": "77ecd99a-daff-4d97-97ee-48364f7fd796",
   "metadata": {},
   "outputs": [
    {
     "name": "stdout",
     "output_type": "stream",
     "text": [
      "Enter a word that starts with a or b: Crap\n"
     ]
    }
   ],
   "source": [
    "word = input(\"Enter a word that starts with a or b: \")"
   ]
  },
  {
   "cell_type": "code",
   "execution_count": 34,
   "id": "9b2a2c08-c432-4792-a51e-b05992405584",
   "metadata": {},
   "outputs": [
    {
     "name": "stdout",
     "output_type": "stream",
     "text": [
      "Enter a word that starts with a or b.\n"
     ]
    }
   ],
   "source": [
    "# Answer\n",
    "word = word.lower()\n",
    "\n",
    "if word[0] == 'a':\n",
    "    print('Your word starts with a.')\n",
    "elif word[0] == 'b':\n",
    "    print('Your word starts with b.')\n",
    "else:\n",
    "    print('Enter a word that starts with a or b.')\n",
    "    \n",
    "\n",
    "\n",
    "\n"
   ]
  },
  {
   "cell_type": "markdown",
   "id": "631b592d-3a31-4fa5-8b47-6a4daf18d7ae",
   "metadata": {},
   "source": [
    "7. Write a program that assigns a letter grade based on a score entered through input() function.<br>\n",
    "    Assume the score is out of 100, with the following grade bands: A: 90-100, B: 80-89, C: 70-79, F: <70."
   ]
  },
  {
   "cell_type": "code",
   "execution_count": 38,
   "id": "4f882287-4a86-41c7-bc25-8b6a9ba9c794",
   "metadata": {},
   "outputs": [
    {
     "name": "stdout",
     "output_type": "stream",
     "text": [
      "Enter the score: 101\n"
     ]
    }
   ],
   "source": [
    "score = input('Enter the score: ')"
   ]
  },
  {
   "cell_type": "code",
   "execution_count": 39,
   "id": "15b47834-2af2-4021-a739-4b9d4ef54ad4",
   "metadata": {},
   "outputs": [
    {
     "name": "stdout",
     "output_type": "stream",
     "text": [
      "Your grade is an A.\n"
     ]
    }
   ],
   "source": [
    "# Answer\n",
    "score = int(score)\n",
    "\n",
    "if score >= 90:\n",
    "    print('Your grade is an A.')\n",
    "elif score >= 80 and score <= 89:\n",
    "    print('Your grade is a B.')\n",
    "elif score >= 70 and score <= 79:\n",
    "    print('Your grade is a C.')\n",
    "elif score < 70:\n",
    "    print('Your grade is a F.')\n",
    "\n",
    "\n"
   ]
  },
  {
   "cell_type": "markdown",
   "id": "a00da350-b2a9-468d-8e88-1eb0e5827857",
   "metadata": {},
   "source": [
    "8. Write a program that asks a user to enter a number.<br>\n",
    "If the number is greater than 5 or smaller than 1, ask them to reenter a number<br>\n",
    "If the number is between 1 and 5, find a roman numeral in the list below and print it.<br>\n",
    "Assume that a user always enters a number<br>\n",
    "(hint: use index of the list to find a roman numeral)"
   ]
  },
  {
   "cell_type": "code",
   "execution_count": 65,
   "id": "239b6f64-af39-434b-8e19-a15fa1f4fa5a",
   "metadata": {},
   "outputs": [
    {
     "name": "stdout",
     "output_type": "stream",
     "text": [
      "Enter a number: 4\n"
     ]
    }
   ],
   "source": [
    "roman = ['I', 'II', 'III', 'IV', 'V']\n",
    "num = input('Enter a number: ')"
   ]
  },
  {
   "cell_type": "code",
   "execution_count": 66,
   "id": "edf0306a-7d05-4320-8b00-e6185f68df0a",
   "metadata": {},
   "outputs": [
    {
     "name": "stdout",
     "output_type": "stream",
     "text": [
      "IV\n"
     ]
    }
   ],
   "source": [
    "# Answer\n",
    "num = int(num)\n",
    "if num > 5 or num < 1:\n",
    "    print('Reenter number.')\n",
    "else:\n",
    "    print(roman[num-1])\n"
   ]
  },
  {
   "cell_type": "markdown",
   "id": "0039c484-449a-4933-96c4-d175f32c45a0",
   "metadata": {},
   "source": [
    "9. Write a program that asks users to enter a minimum average rating and minimum number of reviews for them to consider a purchase of a snack.<br>\n",
    "Check if the snack in the snack dictionary satisfies the two conditions.<br>\n",
    "If yes, print buy snack_name! (snsnackake name should be retrieved from the dictionary)<br>\n",
    "If not, print do not buy snack_name! (snack name should be retrieved from the dictionary)<br>"
   ]
  },
  {
   "cell_type": "code",
   "execution_count": 69,
   "id": "69dbc9da-780e-41b4-b066-a6e2b454b200",
   "metadata": {},
   "outputs": [
    {
     "name": "stdout",
     "output_type": "stream",
     "text": [
      "What is a minimum average rating to buy a snack?4.1\n",
      "What is a minimum number of review to buy a snack?1500\n"
     ]
    }
   ],
   "source": [
    "cereal = {'name': 'Oreo Cereal', 'avg_rating': 4.3, 'no_review': 1000}\n",
    "min_rating = float(input('What is a minimum average rating to buy a snack?'))\n",
    "min_number = float(input('What is a minimum number of review to buy a snack?'))"
   ]
  },
  {
   "cell_type": "code",
   "execution_count": 70,
   "id": "05f8cdab-ea1a-4949-800d-161c0a1fc5d7",
   "metadata": {},
   "outputs": [
    {
     "name": "stdout",
     "output_type": "stream",
     "text": [
      "Do not buy Oreo Cereal\n"
     ]
    }
   ],
   "source": [
    "# Answer\n",
    "\n",
    "if min_rating > cereal[\"avg_rating\"] and min_number > cereal[\"no_review\"]:\n",
    "    print(f'buy {cereal[\"name\"]}!')\n",
    "else:\n",
    "    print(f'Do not buy {cereal[\"name\"]}')\n",
    "\n"
   ]
  },
  {
   "cell_type": "markdown",
   "id": "0ead37d1-20af-4f91-a80e-ceeb7e13d5eb",
   "metadata": {},
   "source": [
    "10. Ask users to enter a firm name. <br>\n",
    "If a firm is in the firm_stock dictionary, print its stock price.<br>\n",
    "If not,print no firm is in the list<br>\n",
    "Don't forget to make the entered firm lowercase using lower() method."
   ]
  },
  {
   "cell_type": "code",
   "execution_count": 71,
   "id": "b792d8b9-c993-48cf-98fd-3714a6574841",
   "metadata": {},
   "outputs": [],
   "source": [
    "firm_stock = {'apple':150, 'google': 120, 'meta': 200, 'nvidia': 300}"
   ]
  },
  {
   "cell_type": "code",
   "execution_count": 73,
   "id": "c0359eed-8269-4ebb-bbc9-5b44c98af6df",
   "metadata": {},
   "outputs": [
    {
     "name": "stdout",
     "output_type": "stream",
     "text": [
      "Enter a firm name: google\n",
      "google stock price is 120\n"
     ]
    }
   ],
   "source": [
    "# Answer\n",
    "firm = input('Enter a firm name: ').lower()\n",
    "\n",
    "if firm in firm_stock:\n",
    "    print(f'{firm} stock price is {firm_stock[firm]}')\n",
    "else:\n",
    "    print(f'{firm} is not in the list')\n",
    "\n",
    "\n"
   ]
  },
  {
   "cell_type": "code",
   "execution_count": null,
   "id": "0d650bb6",
   "metadata": {},
   "outputs": [],
   "source": []
  }
 ],
 "metadata": {
  "kernelspec": {
   "display_name": "Python 3 (ipykernel)",
   "language": "python",
   "name": "python3"
  },
  "language_info": {
   "codemirror_mode": {
    "name": "ipython",
    "version": 3
   },
   "file_extension": ".py",
   "mimetype": "text/x-python",
   "name": "python",
   "nbconvert_exporter": "python",
   "pygments_lexer": "ipython3",
   "version": "3.11.5"
  }
 },
 "nbformat": 4,
 "nbformat_minor": 5
}
