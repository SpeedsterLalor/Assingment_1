{
 "cells": [
  {
   "cell_type": "markdown",
   "id": "d88a0343-39d2-4437-87f6-e487f9c0ebd3",
   "metadata": {},
   "source": [
    "## Before you close this Jupyter Notebook,\n",
    "1. Go to File > Save Notebook.\n",
    "2. Check if the last checkpoint (next to the file name on the top) is within the last minute.\n",
    "3. Do not close this file. With it opened, upload the file on Canvas.\n",
    "4. Download the uploaded file on Canvas and open it.\n",
    "5. If the file is up to date, you may close all the Jupyter Notebooks.\n",
    "6. Raise your hand and ask for help if you need."
   ]
  },
  {
   "cell_type": "markdown",
   "id": "9df7d0b7-ffad-4c50-8fda-05363145947d",
   "metadata": {},
   "source": [
    "## After leaving this classroom, you no longer have a chance for submission.\n",
    "## On Canvas, you will have only one chance to upload your file. \n",
    "## If you submitted a wrong file, let the instructor know and email your file to him before leaving the classroom.\n",
    "youngjin.kwon@wsu.edu"
   ]
  },
  {
   "cell_type": "markdown",
   "id": "6df9ab8b-eab6-4010-bf60-5a8fede249c0",
   "metadata": {},
   "source": [
    "1. Several types of data can be iterated in for-loop.<br>\n",
    "    First, provide the three types of data which can be iterated in for-loop.<br>\n",
    "    (In other words, what datatypes can come after 'in' in for-loop?)<br>\n",
    "    \n",
    "    Second, for each of the three datatypes, provide what pieces of data can be accessed in each iteration in for-loop.<br>\n",
    "    (In other words, what pieces of data are stored to a temporary variable in for-loop?)"
   ]
  },
  {
   "cell_type": "code",
   "execution_count": 44,
   "id": "edfc46cf-736e-45f6-8421-c329769db352",
   "metadata": {},
   "outputs": [
    {
     "name": "stdout",
     "output_type": "stream",
     "text": [
      "1\n",
      "2\n",
      "3\n",
      "4\n",
      "5\n",
      "H\n",
      "e\n",
      "l\n",
      "l\n",
      "o\n",
      "name\n",
      "age\n"
     ]
    }
   ],
   "source": [
    "# Answer\n",
    "#list\n",
    "for num in [1,2,3,4,5]:\n",
    "    print(num)\n",
    "#In a list you can iterate over each item within a list and store that alone.\n",
    "\n",
    "#Char/String\n",
    "for char in \"Hello\":\n",
    "    print(char)\n",
    "#In a string or char you can store each character of a sentence/word/number while iterating.\n",
    "\n",
    "#Dictionary\n",
    "for key in {'name': 'John', 'age': 30}:\n",
    "    print(key)\n",
    "#In a dictionary you can iterate over each key that is used within the dictionary and reference either its key or value.\n"
   ]
  },
  {
   "cell_type": "markdown",
   "id": "9cb4ec05-a0bb-4d48-8bfe-9f083f8be2f8",
   "metadata": {},
   "source": [
    "2. Convert the following for-loop (, which creates a new list, li) into a list comprehension"
   ]
  },
  {
   "cell_type": "code",
   "execution_count": 6,
   "id": "89dc361c-7081-426b-8a1a-09a188fb3e99",
   "metadata": {},
   "outputs": [
    {
     "data": {
      "text/plain": [
       "[1, 4, 9, 16]"
      ]
     },
     "execution_count": 6,
     "metadata": {},
     "output_type": "execute_result"
    }
   ],
   "source": [
    "# Convert this code to list comprehension code\n",
    "# Do not modify this code\n",
    "li = []\n",
    "for el in range(1,5):\n",
    "    li.append(el*el)\n",
    "li"
   ]
  },
  {
   "cell_type": "code",
   "execution_count": 7,
   "id": "d110852a-313b-4809-a243-addec1f8e207",
   "metadata": {},
   "outputs": [
    {
     "data": {
      "text/plain": [
       "[1, 4, 9, 16]"
      ]
     },
     "execution_count": 7,
     "metadata": {},
     "output_type": "execute_result"
    }
   ],
   "source": [
    "# Answer\n",
    "\n",
    "li = []\n",
    "li = [el*el for el in range(1,5)]\n",
    "\n",
    "li\n",
    "\n"
   ]
  },
  {
   "cell_type": "markdown",
   "id": "91e65c04-bfb7-4c11-aa34-bf1084cda215",
   "metadata": {},
   "source": [
    "3. Replace _____ with one of the following commands so that the following code prints out 1, 3, 4:<br>\n",
    "   continue, break, pass, print(i)<br>\n",
    "\n",
    "   Note.1, 3, 4 should be printed in separate lines without comma as below.<br>\n",
    "   1<br>\n",
    "   3<br>\n",
    "   4"
   ]
  },
  {
   "cell_type": "code",
   "execution_count": 15,
   "id": "6c87c1c6-ff57-4e5b-8dbb-8b11ecdfc0b7",
   "metadata": {},
   "outputs": [
    {
     "name": "stdout",
     "output_type": "stream",
     "text": [
      "1\n",
      "3\n",
      "4\n"
     ]
    }
   ],
   "source": [
    "# Provide your answer in the cell below (not in this cell)\n",
    "# This cell is a backup in case the original question is lost. \n",
    "# Copy and paste this code to the cell below if needed.\n",
    "for i in range(1,6):\n",
    "    if i == 1:\n",
    "        pass\n",
    "        print(i)\n",
    "    elif i == 2:\n",
    "        continue\n",
    "        print(i)\n",
    "    elif i == 3:\n",
    "        print(i)\n",
    "    elif i == 4:\n",
    "        print(i)\n",
    "        break\n",
    "    else:\n",
    "        print(i)"
   ]
  },
  {
   "cell_type": "code",
   "execution_count": 16,
   "id": "634e9146-a7d7-4155-a798-3318eacff4f5",
   "metadata": {},
   "outputs": [
    {
     "name": "stdout",
     "output_type": "stream",
     "text": [
      "1\n",
      "3\n",
      "4\n"
     ]
    }
   ],
   "source": [
    "# Answer\n",
    "for i in range(1,6):\n",
    "    if i == 1:\n",
    "        pass\n",
    "        print(i)\n",
    "    elif i == 2:\n",
    "        continue\n",
    "        print(i)\n",
    "    elif i == 3:\n",
    "        print(i)\n",
    "    elif i == 4:\n",
    "        print(i)\n",
    "        break\n",
    "    else:\n",
    "        print(i)"
   ]
  },
  {
   "cell_type": "markdown",
   "id": "7355a55d-c7e7-417a-a63e-8b4c5ca08a6f",
   "metadata": {},
   "source": [
    "4. Fill in the blanks below so that the following while-loop prints from 0 through 15 like the following image"
   ]
  },
  {
   "attachments": {
    "40eb9c14-1d21-4b29-b998-d112d66349f1.png": {
     "image/png": "[encoded data removed]"
    }
   },
   "cell_type": "markdown",
   "id": "4582fc66-e5f5-42aa-906f-cb161fdce7f0",
   "metadata": {},
   "source": [
    "![image.png](attachment:40eb9c14-1d21-4b29-b998-d112d66349f1.png)"
   ]
  },
  {
   "cell_type": "code",
   "execution_count": 17,
   "id": "86db4f70-522a-4ce3-bb3e-cf2f013685e4",
   "metadata": {},
   "outputs": [
    {
     "name": "stdout",
     "output_type": "stream",
     "text": [
      "0\n",
      "3\n",
      "6\n",
      "9\n",
      "12\n",
      "15\n"
     ]
    }
   ],
   "source": [
    "# Provide your answer in the cell below (not in this cell)\n",
    "# This cell is a backup in case the original question is lost. \n",
    "# Copy and paste this code to the cell below if needed.\n",
    "i = 0\n",
    "while i < 16:\n",
    "    print(i)\n",
    "    i+=3"
   ]
  },
  {
   "cell_type": "code",
   "execution_count": 18,
   "id": "290c3787-a1df-4d2c-8980-51bfdad87cb9",
   "metadata": {},
   "outputs": [
    {
     "name": "stdout",
     "output_type": "stream",
     "text": [
      "0\n",
      "3\n",
      "6\n",
      "9\n",
      "12\n",
      "15\n"
     ]
    }
   ],
   "source": [
    "# Answer\n",
    "i = 0\n",
    "while i < 16:\n",
    "    print(i)\n",
    "    i+=3"
   ]
  },
  {
   "cell_type": "markdown",
   "id": "2eac846d-5d2d-47ec-a13b-cde7fd1cc390",
   "metadata": {},
   "source": [
    "5. Fill in the blanks so that the following code prints strings as in the image below."
   ]
  },
  {
   "attachments": {
    "dddf61b1-6cbf-4529-8d19-039b71979d2a.png": {
     "image/png": "[encoded data removed]"
    }
   },
   "cell_type": "markdown",
   "id": "7c885884-f4cf-4c3f-b745-fd8d7ca381a9",
   "metadata": {},
   "source": [
    "![image.png](attachment:dddf61b1-6cbf-4529-8d19-039b71979d2a.png)"
   ]
  },
  {
   "cell_type": "code",
   "execution_count": 39,
   "id": "f9b082d6",
   "metadata": {},
   "outputs": [
    {
     "name": "stdout",
     "output_type": "stream",
     "text": [
      "W\n",
      "A\n",
      "Z\n",
      "Z\n",
      "U\n"
     ]
    }
   ],
   "source": [
    "# Provide your answer in the cell below (not in this cell)\n",
    "# This cell serves a backup in case the original question is lost. \n",
    "# Copy and paste this code to the cell below if needed.\n",
    "for ch in 'WAZZU':\n",
    "    print(ch)"
   ]
  },
  {
   "cell_type": "code",
   "execution_count": 40,
   "id": "38bdea42-7ec0-4b94-92b5-3526b181b42e",
   "metadata": {},
   "outputs": [
    {
     "name": "stdout",
     "output_type": "stream",
     "text": [
      "W\n",
      "A\n",
      "Z\n",
      "Z\n",
      "U\n"
     ]
    }
   ],
   "source": [
    "# Answer\n",
    "for ch in 'WAZZU':\n",
    "    print(ch)"
   ]
  },
  {
   "cell_type": "markdown",
   "id": "766db9e2-f432-4c85-8dc2-68b4fd00267d",
   "metadata": {},
   "source": [
    "6. Convert the following code into a for-loop.<br>\n",
    "   Using a for-loop, your code should not contain the repeating commands (the same print functions) below."
   ]
  },
  {
   "cell_type": "code",
   "execution_count": 21,
   "id": "ab103e66-5e25-4622-b5cb-bf032a6e783f",
   "metadata": {},
   "outputs": [
    {
     "name": "stdout",
     "output_type": "stream",
     "text": [
      "----\n",
      "**\n",
      "----\n",
      "**\n",
      "----\n",
      "**\n"
     ]
    }
   ],
   "source": [
    "# Convert this code to a for-loop\n",
    "print(\"----\")\n",
    "print(\"**\")\n",
    "print(\"----\")\n",
    "print(\"**\")\n",
    "print(\"----\")\n",
    "print(\"**\")"
   ]
  },
  {
   "cell_type": "code",
   "execution_count": 22,
   "id": "d74cc2b4-04e8-409b-a82d-8d2a21198552",
   "metadata": {},
   "outputs": [
    {
     "name": "stdout",
     "output_type": "stream",
     "text": [
      "----\n",
      "**\n",
      "----\n",
      "**\n",
      "----\n",
      "**\n"
     ]
    }
   ],
   "source": [
    "# Answer\n",
    "\n",
    "for i in range(3):\n",
    "    print('----')\n",
    "    print('**')\n",
    "\n"
   ]
  },
  {
   "cell_type": "markdown",
   "id": "f1302080-d52f-48d2-8e5a-7b54aeffff62",
   "metadata": {},
   "source": [
    "7. Answer Q6 using a while-loop."
   ]
  },
  {
   "cell_type": "code",
   "execution_count": 25,
   "id": "cdf81174-5f7a-4a27-8357-7043d48e2c37",
   "metadata": {},
   "outputs": [
    {
     "name": "stdout",
     "output_type": "stream",
     "text": [
      "----\n",
      "**\n",
      "----\n",
      "**\n",
      "----\n",
      "**\n"
     ]
    }
   ],
   "source": [
    "# Answer\n",
    "i=0\n",
    "while i < 3:\n",
    "    print('----')\n",
    "    print('**')\n",
    "    i+=1\n",
    "\n"
   ]
  },
  {
   "cell_type": "markdown",
   "id": "e77dd4e3-b0c0-4f24-a710-530d40ea6af9",
   "metadata": {},
   "source": [
    "8. Given a list of names, li_name, write a loop that counts how many names have more than or equal to 5 characters<br>prints the count at the end.<br>\n",
    "    Your code should return 3.<br>\n",
    "    Hint: Use len() function to find the number of characters"
   ]
  },
  {
   "cell_type": "code",
   "execution_count": 26,
   "id": "8cc5ed91-12f5-4f39-95d4-5fc4e107a5d0",
   "metadata": {},
   "outputs": [],
   "source": [
    "li_name = ['Michelle', 'Tom', 'Steven', 'Courtney', 'Sam', 'Josh']"
   ]
  },
  {
   "cell_type": "code",
   "execution_count": 27,
   "id": "1c4b6cac-3b12-4b1e-9e3b-8253a952cdc8",
   "metadata": {},
   "outputs": [
    {
     "name": "stdout",
     "output_type": "stream",
     "text": [
      "3\n"
     ]
    }
   ],
   "source": [
    "# Answer\n",
    "\n",
    "count = 0\n",
    "\n",
    "for name in li_name:\n",
    "    if len(name) >= 5:\n",
    "        count += 1\n",
    "\n",
    "print(count)\n",
    "\n"
   ]
  },
  {
   "cell_type": "markdown",
   "id": "a00a25ae-f3e4-4d76-95f6-9e1a00903c17",
   "metadata": {},
   "source": [
    "9. Write a program that creates a new list, unique_emails, based on a list, li_emails.<br>\n",
    "    unique_emails should contain each email address in li_emails only once (without any duplicates).<br>\n",
    "    In other words, unique_emails should be like this list: ['t.swift@gmail.com', 't.swift@wsu.edu', 't.swift@yahoo.com'].<br>\n",
    "    (The order of emails is not a concern; your answer may have a different order of emails)\n",
    "\n",
    "   You must use loop to answer this question.<br>\n",
    "   Hint: iterate over li_emails and figure out when (not) to add its element to unique_emails"
   ]
  },
  {
   "cell_type": "code",
   "execution_count": 28,
   "id": "de055ce1-4a2f-44cb-90f0-fbec1b93f48d",
   "metadata": {},
   "outputs": [],
   "source": [
    "li_emails = [\"t.swift@gmail.com\", \"t.swift@wsu.edu\", \"t.swift@gmail.com\", \"t.swift@yahoo.com\", \"t.swift@wsu.edu\"]"
   ]
  },
  {
   "cell_type": "code",
   "execution_count": 29,
   "id": "339171ba-6792-4392-a3c5-8a658bf3a54f",
   "metadata": {},
   "outputs": [
    {
     "name": "stdout",
     "output_type": "stream",
     "text": [
      "['t.swift@gmail.com', 't.swift@wsu.edu', 't.swift@yahoo.com']\n"
     ]
    }
   ],
   "source": [
    "# Answer\n",
    "\n",
    "unique_emails = []\n",
    "\n",
    "for email in li_emails:\n",
    "    if email not in unique_emails:\n",
    "        unique_emails.append(email)\n",
    "\n",
    "print(unique_emails)\n"
   ]
  },
  {
   "cell_type": "markdown",
   "id": "e0b32de6-75b6-459a-928e-d19a136203be",
   "metadata": {},
   "source": [
    "10. Given a list of social media posts, sm_posts, where each post is a string,<br>\n",
    "    Categorize each post in sm_posts based on whether it mentions \"Python\", \"Java\", or neither.<br>\n",
    "    Using a loop and conditions, write a program that prints the post and its category as in the image below.<br>\n",
    "\n",
    "    Hint: Use \"in\" operator to evaluate whether a string is part of another string."
   ]
  },
  {
   "attachments": {
    "1471d570-1a14-4906-ba75-1169b7686029.png": {
     "image/png": "[encoded data removed]"
    }
   },
   "cell_type": "markdown",
   "id": "9bed638c-39ff-4aae-9b7c-2011f858dbc1",
   "metadata": {},
   "source": [
    "![image.png](attachment:1471d570-1a14-4906-ba75-1169b7686029.png)"
   ]
  },
  {
   "cell_type": "code",
   "execution_count": 31,
   "id": "fa56cc93-895b-43c3-a0ca-65a6d1fcc61d",
   "metadata": {},
   "outputs": [],
   "source": [
    "sm_posts = [\n",
    "    \"I just solved a problem using Python!\",\n",
    "    \"Is Java easy to learn?\",\n",
    "    \"How to set up a web server\",\n",
    "    \"Python decorators are amazing!\"\n",
    "]"
   ]
  },
  {
   "cell_type": "code",
   "execution_count": 37,
   "id": "34ed079a-d267-4387-ae8c-6566fb714072",
   "metadata": {},
   "outputs": [
    {
     "name": "stdout",
     "output_type": "stream",
     "text": [
      "I just solved a problem using Python! - Category: Python\n",
      "Is Java easy to learn? - Category: Java\n",
      "How to set up a web server - Category: Other\n",
      "Python decorators are amazing! - Category: Python\n"
     ]
    }
   ],
   "source": [
    "# Answer\n",
    "\n",
    "for i in sm_posts:\n",
    "    if 'Python' in i:\n",
    "        print(f'{i} - Category: Python')\n",
    "    elif \"Java\" in i:\n",
    "        print(f'{i} - Category: Java')\n",
    "    else:\n",
    "          print(f'{i} - Category: Other')\n",
    "\n",
    "\n"
   ]
  },
  {
   "cell_type": "code",
   "execution_count": null,
   "id": "bcd5b82d-30a3-4610-bf6e-02d3fe833dff",
   "metadata": {},
   "outputs": [],
   "source": []
  }
 ],
 "metadata": {
  "kernelspec": {
   "display_name": "Python 3 (ipykernel)",
   "language": "python",
   "name": "python3"
  },
  "language_info": {
   "codemirror_mode": {
    "name": "ipython",
    "version": 3
   },
   "file_extension": ".py",
   "mimetype": "text/x-python",
   "name": "python",
   "nbconvert_exporter": "python",
   "pygments_lexer": "ipython3",
   "version": "3.11.5"
  }
 },
 "nbformat": 4,
 "nbformat_minor": 5
}
